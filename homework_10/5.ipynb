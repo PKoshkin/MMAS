{
 "cells": [
  {
   "cell_type": "code",
   "execution_count": 1,
   "metadata": {
    "collapsed": false
   },
   "outputs": [
    {
     "name": "stderr",
     "output_type": "stream",
     "text": [
      "Nonparametric Kernel Methods for Mixed Datatypes (version 0.60-2)\n",
      "[vignette(\"np_faq\",package=\"np\") provides answers to frequently asked questions]\n"
     ]
    }
   ],
   "source": [
    "library('kedd')\n",
    "library('np')"
   ]
  },
  {
   "cell_type": "code",
   "execution_count": 2,
   "metadata": {
    "collapsed": true,
    "deletable": true,
    "editable": true
   },
   "outputs": [],
   "source": [
    "data <- read.table('5.txt')"
   ]
  },
  {
   "cell_type": "code",
   "execution_count": 3,
   "metadata": {
    "collapsed": false
   },
   "outputs": [],
   "source": [
    "n <- 400\n",
    "q <- 100\n",
    "train_data = data[1:n, 1:3]\n",
    "test_data = data[(n + 1):(n + q), 1:3]"
   ]
  },
  {
   "cell_type": "code",
   "execution_count": 4,
   "metadata": {
    "collapsed": true
   },
   "outputs": [],
   "source": [
    "linear_model <- lm(formula = V1 ~ V2 + V3, data = train_data)\n",
    "linear_predictions <- predict(linear_model, test_data)"
   ]
  },
  {
   "cell_type": "code",
   "execution_count": 5,
   "metadata": {
    "collapsed": false
   },
   "outputs": [
    {
     "data": {
      "text/html": [
       "2565.46732232292"
      ],
      "text/latex": [
       "2565.46732232292"
      ],
      "text/markdown": [
       "2565.46732232292"
      ],
      "text/plain": [
       "[1] 2565.467"
      ]
     },
     "metadata": {},
     "output_type": "display_data"
    }
   ],
   "source": [
    "sum((linear_predictions - test_data[1:nrow(test_data), 1]) ^ 2)"
   ]
  },
  {
   "cell_type": "code",
   "execution_count": 6,
   "metadata": {
    "collapsed": false
   },
   "outputs": [
    {
     "name": "stdout",
     "output_type": "stream",
     "text": [
      "\r",
      "Multistart 1 of 2 |\r",
      "Multistart 1 of 2 |\r",
      "Multistart 1 of 2 |\r",
      "Multistart 1 of 2 /\r",
      "Multistart 1 of 2 -\r",
      "Multistart 1 of 2 |\r",
      "Multistart 1 of 2 |\r",
      "Multistart 2 of 2 |\r",
      "Multistart 2 of 2 |\r",
      "Multistart 2 of 2 /\r",
      "Multistart 2 of 2 -\r",
      "Multistart 2 of 2 |\r",
      "Multistart 2 of 2 |\r",
      "Multistart 2 of 2 /\r",
      "                   \r"
     ]
    }
   ],
   "source": [
    "non_linear_model <- npreg(V1 ~ V2 + V3, data = train_data, regtype = \"ll\", bwmethod = \"cv.aic\", gradients = TRUE)\n",
    "non_linear_predictions <- predict(\n",
    "    non_linear_model, data = train_data[1:nrow(train_data), 1:3], newdata = test_data[1:nrow(test_data), 1:3]\n",
    ")"
   ]
  },
  {
   "cell_type": "code",
   "execution_count": 7,
   "metadata": {
    "collapsed": false
   },
   "outputs": [
    {
     "data": {
      "text/html": [
       "36535.7022573598"
      ],
      "text/latex": [
       "36535.7022573598"
      ],
      "text/markdown": [
       "36535.7022573598"
      ],
      "text/plain": [
       "[1] 36535.7"
      ]
     },
     "metadata": {},
     "output_type": "display_data"
    }
   ],
   "source": [
    "sum((non_linear_predictions - test_data[1:nrow(test_data), 1]) ^ 2)"
   ]
  },
  {
   "cell_type": "markdown",
   "metadata": {},
   "source": [
    "Линейная модель дала результат лучше. Это значит, данные устроены достаточно просто, так что нелинейные модели себя не оправдывают."
   ]
  }
 ],
 "metadata": {
  "kernelspec": {
   "display_name": "R",
   "language": "R",
   "name": "ir"
  },
  "language_info": {
   "codemirror_mode": "r",
   "file_extension": ".r",
   "mimetype": "text/x-r-source",
   "name": "R",
   "pygments_lexer": "r",
   "version": "3.3.3"
  }
 },
 "nbformat": 4,
 "nbformat_minor": 2
}
