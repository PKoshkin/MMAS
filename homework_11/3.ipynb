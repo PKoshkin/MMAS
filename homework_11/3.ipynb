{
 "cells": [
  {
   "cell_type": "code",
   "execution_count": 1,
   "metadata": {
    "collapsed": false
   },
   "outputs": [],
   "source": [
    "import pandas\n",
    "from sklearn.decomposition import PCA\n",
    "from sklearn.manifold import TSNE\n",
    "from sklearn.linear_model import Ridge\n",
    "from sklearn.linear_model import Lasso\n",
    "from sklearn.metrics import accuracy_score\n",
    "import numpy as np\n",
    "from matplotlib import pyplot as plot\n",
    "%matplotlib inline"
   ]
  },
  {
   "cell_type": "code",
   "execution_count": 2,
   "metadata": {
    "collapsed": false,
    "deletable": true,
    "editable": true
   },
   "outputs": [],
   "source": [
    "train = pandas.read_csv('hw11t3v1_train.txt', sep='\\t').values\n",
    "target = pandas.read_csv('hw11t3v1_target.txt').values.reshape(-1)\n",
    "test = pandas.read_csv('hw11t3v1_test.txt', sep='\\t').values\n",
    "target_test = pandas.read_csv('hw11t3v1_target_test.txt').values.reshape(-1)\n",
    "concatenated_data = np.concatenate([train, test], axis=0)"
   ]
  },
  {
   "cell_type": "markdown",
   "metadata": {},
   "source": [
    "Посмотрим среднее значение ошибки для пресказания - среднее значение, чтобы сравнивать с ним различные модели."
   ]
  },
  {
   "cell_type": "code",
   "execution_count": 17,
   "metadata": {
    "collapsed": false,
    "deletable": true,
    "editable": true
   },
   "outputs": [
    {
     "data": {
      "text/plain": [
       "124593.50721933054"
      ]
     },
     "execution_count": 17,
     "metadata": {},
     "output_type": "execute_result"
    }
   ],
   "source": [
    "np.mean((np.mean(train) - target_test) ** 2)"
   ]
  },
  {
   "cell_type": "code",
   "execution_count": 5,
   "metadata": {
    "collapsed": true
   },
   "outputs": [],
   "source": [
    "def get_mean_error(model, transformator):\n",
    "    error = 0\n",
    "    # Запускаем несколько раз, т.к. tsne может по-разному срабатывать от запуска к запуску\n",
    "    times = 5\n",
    "    for i in range(times):\n",
    "        modified_data = transformator.fit_transform(concatenated_data)\n",
    "        modified_train = modified_data[:len(train)]\n",
    "        modified_test = modified_data[len(train):]\n",
    "        model.fit(modified_train, target)\n",
    "        predictions = model.predict(modified_test)\n",
    "        error += np.mean((predictions - target_test) ** 2)\n",
    "    print(error / times)"
   ]
  },
  {
   "cell_type": "markdown",
   "metadata": {},
   "source": [
    "Запустим разные варианты, посмотрим, что получится лучше."
   ]
  },
  {
   "cell_type": "code",
   "execution_count": 6,
   "metadata": {
    "collapsed": false
   },
   "outputs": [
    {
     "name": "stdout",
     "output_type": "stream",
     "text": [
      "8775.96770389\n"
     ]
    }
   ],
   "source": [
    "get_mean_error(Ridge(), PCA(n_components=2))"
   ]
  },
  {
   "cell_type": "code",
   "execution_count": 7,
   "metadata": {
    "collapsed": false
   },
   "outputs": [
    {
     "name": "stdout",
     "output_type": "stream",
     "text": [
      "9069.4164671\n"
     ]
    }
   ],
   "source": [
    "get_mean_error(Ridge(), PCA(n_components=5))"
   ]
  },
  {
   "cell_type": "code",
   "execution_count": 8,
   "metadata": {
    "collapsed": false
   },
   "outputs": [
    {
     "name": "stdout",
     "output_type": "stream",
     "text": [
      "29815.7491577\n"
     ]
    }
   ],
   "source": [
    "get_mean_error(Ridge(), TSNE(perplexity=300))"
   ]
  },
  {
   "cell_type": "code",
   "execution_count": 9,
   "metadata": {
    "collapsed": false
   },
   "outputs": [
    {
     "name": "stdout",
     "output_type": "stream",
     "text": [
      "38123.0501598\n"
     ]
    }
   ],
   "source": [
    "get_mean_error(Ridge(), TSNE(perplexity=500))"
   ]
  },
  {
   "cell_type": "code",
   "execution_count": 10,
   "metadata": {
    "collapsed": false
   },
   "outputs": [
    {
     "name": "stdout",
     "output_type": "stream",
     "text": [
      "122037.559368\n"
     ]
    }
   ],
   "source": [
    "get_mean_error(Ridge(), TSNE(perplexity=700))"
   ]
  },
  {
   "cell_type": "code",
   "execution_count": 11,
   "metadata": {
    "collapsed": false
   },
   "outputs": [
    {
     "name": "stdout",
     "output_type": "stream",
     "text": [
      "4533.14254449\n"
     ]
    }
   ],
   "source": [
    "get_mean_error(Ridge(), TSNE(perplexity=100))"
   ]
  },
  {
   "cell_type": "code",
   "execution_count": 12,
   "metadata": {
    "collapsed": false
   },
   "outputs": [
    {
     "name": "stdout",
     "output_type": "stream",
     "text": [
      "6086.62396644\n"
     ]
    }
   ],
   "source": [
    "get_mean_error(Lasso(), TSNE(perplexity=100))"
   ]
  },
  {
   "cell_type": "code",
   "execution_count": 13,
   "metadata": {
    "collapsed": false
   },
   "outputs": [
    {
     "name": "stdout",
     "output_type": "stream",
     "text": [
      "8779.73466443\n"
     ]
    }
   ],
   "source": [
    "get_mean_error(Lasso(), PCA(n_components=2))"
   ]
  },
  {
   "cell_type": "code",
   "execution_count": 14,
   "metadata": {
    "collapsed": false
   },
   "outputs": [
    {
     "name": "stdout",
     "output_type": "stream",
     "text": [
      "9046.40487462\n"
     ]
    }
   ],
   "source": [
    "get_mean_error(Lasso(), PCA(n_components=5))"
   ]
  },
  {
   "cell_type": "markdown",
   "metadata": {},
   "source": [
    "PCA работает стабильнее. Причем лучше всего результат получается в случае 2 компонент. TSNE дает не плохие результаты при определенных значениях перплексии. Однако при других, результаты могут быть плохие. При этом Ridge регрессия показывает себя лучше всего."
   ]
  }
 ],
 "metadata": {
  "kernelspec": {
   "display_name": "Python 3",
   "language": "python",
   "name": "python3"
  },
  "language_info": {
   "codemirror_mode": {
    "name": "ipython",
    "version": 3
   },
   "file_extension": ".py",
   "mimetype": "text/x-python",
   "name": "python",
   "nbconvert_exporter": "python",
   "pygments_lexer": "ipython3",
   "version": "3.6.0"
  }
 },
 "nbformat": 4,
 "nbformat_minor": 2
}
