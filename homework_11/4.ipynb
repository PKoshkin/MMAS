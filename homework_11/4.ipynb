{
 "cells": [
  {
   "cell_type": "code",
   "execution_count": 1,
   "metadata": {
    "collapsed": false,
    "deletable": true,
    "editable": true
   },
   "outputs": [],
   "source": [
    "import pandas\n",
    "from sklearn.decomposition import PCA\n",
    "from sklearn.manifold import TSNE\n",
    "from sklearn.linear_model import Ridge\n",
    "from sklearn.linear_model import Lasso\n",
    "from sklearn.svm import SVR\n",
    "from sklearn.metrics import accuracy_score\n",
    "import numpy as np\n",
    "from matplotlib import pyplot as plot\n",
    "%matplotlib inline"
   ]
  },
  {
   "cell_type": "markdown",
   "metadata": {},
   "source": [
    "Делаем все так же, как и в 3 задаче. Только здесь требуется подобрать другие модели."
   ]
  },
  {
   "cell_type": "code",
   "execution_count": 2,
   "metadata": {
    "collapsed": false,
    "deletable": true,
    "editable": true
   },
   "outputs": [],
   "source": [
    "train = pandas.read_csv('hw11t4v0_train.txt', sep='\\t').values\n",
    "target = pandas.read_csv('hw11t4v0_target.txt').values.reshape(-1)\n",
    "test = pandas.read_csv('hw11t4v0_test.txt', sep='\\t').values\n",
    "target_test = pandas.read_csv('hw11t4v0_target_test.txt').values.reshape(-1)\n",
    "concatenated_data = np.concatenate([train, test], axis=0)"
   ]
  },
  {
   "cell_type": "code",
   "execution_count": 3,
   "metadata": {
    "collapsed": false,
    "deletable": true,
    "editable": true
   },
   "outputs": [
    {
     "data": {
      "text/plain": [
       "22297805.958790664"
      ]
     },
     "execution_count": 3,
     "metadata": {},
     "output_type": "execute_result"
    }
   ],
   "source": [
    "np.mean((np.mean(train) - target_test) ** 2)"
   ]
  },
  {
   "cell_type": "code",
   "execution_count": 4,
   "metadata": {
    "collapsed": true,
    "deletable": true,
    "editable": true
   },
   "outputs": [],
   "source": [
    "def get_mean_error(model, transformator):\n",
    "    error = 0\n",
    "    times = 5\n",
    "    for i in range(times):\n",
    "        modified_data = transformator.fit_transform(concatenated_data)\n",
    "        modified_train = modified_data[:len(train)]\n",
    "        modified_test = modified_data[len(train):]\n",
    "        model.fit(modified_train, target)\n",
    "        predictions = model.predict(modified_test)\n",
    "        error += np.mean((predictions - target_test) ** 2)\n",
    "    print(error / times)"
   ]
  },
  {
   "cell_type": "code",
   "execution_count": 5,
   "metadata": {
    "collapsed": false,
    "deletable": true,
    "editable": true
   },
   "outputs": [
    {
     "name": "stdout",
     "output_type": "stream",
     "text": [
      "22421050.5592\n"
     ]
    }
   ],
   "source": [
    "get_mean_error(Ridge(), PCA(n_components=5))"
   ]
  },
  {
   "cell_type": "code",
   "execution_count": 6,
   "metadata": {
    "collapsed": false
   },
   "outputs": [
    {
     "name": "stdout",
     "output_type": "stream",
     "text": [
      "22295055.1808\n"
     ]
    }
   ],
   "source": [
    "get_mean_error(SVR(kernel='poly'), PCA(n_components=2))"
   ]
  },
  {
   "cell_type": "code",
   "execution_count": 7,
   "metadata": {
    "collapsed": false
   },
   "outputs": [
    {
     "name": "stdout",
     "output_type": "stream",
     "text": [
      "22292915.9743\n"
     ]
    }
   ],
   "source": [
    "get_mean_error(SVR(), PCA(n_components=2))"
   ]
  },
  {
   "cell_type": "markdown",
   "metadata": {},
   "source": [
    "Все, что пробовал нормально не сработало. Несколько результатов есть выше. Они работают не особо лучше предсказания средним."
   ]
  }
 ],
 "metadata": {
  "kernelspec": {
   "display_name": "Python 3",
   "language": "python",
   "name": "python3"
  },
  "language_info": {
   "codemirror_mode": {
    "name": "ipython",
    "version": 3
   },
   "file_extension": ".py",
   "mimetype": "text/x-python",
   "name": "python",
   "nbconvert_exporter": "python",
   "pygments_lexer": "ipython3",
   "version": "3.6.0"
  }
 },
 "nbformat": 4,
 "nbformat_minor": 2
}
