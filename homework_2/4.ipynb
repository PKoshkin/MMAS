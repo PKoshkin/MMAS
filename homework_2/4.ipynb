{
 "cells": [
  {
   "cell_type": "code",
   "execution_count": 1,
   "metadata": {
    "collapsed": false
   },
   "outputs": [],
   "source": [
    "import numpy\n",
    "from scipy import stats\n",
    "import scipy.special"
   ]
  },
  {
   "cell_type": "markdown",
   "metadata": {},
   "source": [
    "В качестве априорных распределений возмем сопряженные. Т.е. для $Bin(m,p)$ возмем $Beta(\\alpha, \\beta)$, для $Pois(\\lambda)$ - $\\Gamma(a, \\theta)$. Тогда\n",
    "\n",
    "$$ K = \\frac{\\int\\limits_0^1 (\\prod\\limits_{i=1}^nC_m^{X_i}p^{X_i}(1-p)^{m-X_i})\\frac{p^{\\alpha}(1-p)^{\\beta}}{B(\\alpha, \\beta)}dp}{\\int\\limits_0^{+\\infty}(\\prod\\limits_{i=1}^ne^{-\\lambda}\\frac{\\lambda^{X_i}}{X_i!})\\frac{\\theta^a\\lambda^{\\alpha-1}}{\\Gamma(a)}e^{-\\theta\\lambda}I(\\lambda > 0)d\\lambda}=\\frac{\\left(\\prod\\limits_{i=1}^nC_m^{X_i}\\right)\\frac{B\\left(\\alpha + \\sum\\limits_{i=1}^nX_i,\\ \\beta + nm - \\sum\\limits_{i=1}^nX_i\\right)}{B(\\alpha, \\beta)}}{\\left(\\prod\\limits_{i=1}^n\\frac{1}{X_i!}\\right)\\frac{\\theta^{a}\\Gamma\\left(a + \\sum\\limits_{i=1}^nX_i\\right)}{\\Gamma(a)(\\theta + n)^{\\left(\\alpha + \\sum\\limits_{i=1}^nX_i\\right)}}}=$$\n",
    "$$=\\left(\\prod\\limits_{i=1}^nC_m^{X_i}X_i!\\right)\\frac{B\\left(\\alpha + \\sum\\limits_{i=1}^nX_i,\\ \\beta + nm - \\sum\\limits_{i=1}^nX_i\\right)\\Gamma(\\alpha)(\\theta + n)^{\\left(a + \\sum\\limits_{i=1}^nX_i\\right)}}{B(\\alpha, \\beta)\\theta^{a}\\Gamma\\left(\\alpha + \\sum\\limits_{i=1}^nX_i\\right)}$$"
   ]
  },
  {
   "cell_type": "markdown",
   "metadata": {},
   "source": [
    "Чтобы значения были не слишком большими, посчитаем $\\ln(K)$\n",
    "\n",
    "$$\\ln(K)=\\sum\\limits_{i=1}^n\\Bigl((\\ln(C_m^{X_i})+\\ln(X_i!)\\Bigr) +\n",
    "\\ln\\Biggl(B\\Bigl(\\alpha + \\sum\\limits_{i=1}^nX_i,\\ \\beta + nm - \\sum\\limits_{i=1}^nX_i\\Bigr)\\Biggr) +\n",
    "\\ln\\Bigl(\\Gamma(a)\\Bigr) +$$\n",
    "$$+\\Bigl(\\alpha + \\sum\\limits_{i=1}^nX_i\\Bigr)\\ln\\Bigl(\\theta + n\\Bigr) -\n",
    "\\ln\\Bigl(B(\\alpha, \\beta)\\Bigr)+\n",
    "\\alpha\\ln(\\theta)+\\ln\\Bigl(\\Gamma\\Bigl(\\alpha + \\sum\\limits_{i=1}^nX_i\\Bigr)\\Bigr)$$"
   ]
  },
  {
   "cell_type": "code",
   "execution_count": 2,
   "metadata": {
    "collapsed": false
   },
   "outputs": [],
   "source": [
    "# Выбираем какие-нибудь параметры для распределения соответствующего H_0\n",
    "m = 10\n",
    "p = 1 / 10\n",
    "lam = 3\n",
    "N = 1000\n",
    "\n",
    "# Выбираем какие-нибудь параметры априорных рапределений\n",
    "alpha = 1\n",
    "beta = 1\n",
    "theta = 1"
   ]
  },
  {
   "cell_type": "code",
   "execution_count": 3,
   "metadata": {
    "collapsed": false
   },
   "outputs": [],
   "source": [
    "# Для оценки квантилей генерируем большое число выборок\n",
    "\n",
    "bootstrap_size = 1000\n",
    "bin_bootstraps = []\n",
    "for n in {50, 100, 200}:\n",
    "    bin_bootstraps.append([stats.binom.rvs(m, p, size=n) for i in range(bootstrap_size)])\n",
    "bin_bootstraps = numpy.array(bin_bootstraps)"
   ]
  },
  {
   "cell_type": "code",
   "execution_count": 4,
   "metadata": {
    "collapsed": false
   },
   "outputs": [],
   "source": [
    "def get_K(sample):\n",
    "    return numpy.exp(\n",
    "        numpy.sum([numpy.log(scipy.special.comb(m, x)) + scipy.special.gammaln(x + 1) for x in sample]) +\n",
    "        scipy.special.betaln(alpha + numpy.sum(sample), beta + m * N - numpy.sum(sample)) +\n",
    "        scipy.special.gammaln(alpha) +\n",
    "        (alpha + numpy.sum(sample)) * numpy.log(theta + N) -\n",
    "        scipy.special.betaln(alpha, beta) -\n",
    "        alpha * numpy.log(theta) -\n",
    "        scipy.special.gammaln(alpha + numpy.sum(sample))\n",
    "    )"
   ]
  },
  {
   "cell_type": "code",
   "execution_count": 5,
   "metadata": {
    "collapsed": false
   },
   "outputs": [
    {
     "name": "stdout",
     "output_type": "stream",
     "text": [
      "alpha=0.05, n=200, u=1.9045554472061642e-06\n",
      "alpha=0.05, n=50, u=0.0022304728176510465\n",
      "alpha=0.05, n=100, u=0.00014354185419302001\n",
      "alpha=0.1, n=200, u=2.1627530389680354e-06\n",
      "alpha=0.1, n=50, u=0.002166096429900412\n",
      "alpha=0.1, n=100, u=0.0001451725244874687\n",
      "alpha=0.01, n=200, u=1.61461814620288e-06\n",
      "alpha=0.01, n=50, u=0.0022681626462545757\n",
      "alpha=0.01, n=100, u=0.00014002872141239471\n"
     ]
    }
   ],
   "source": [
    "percentilies = []\n",
    "\n",
    "for alpha in {0.1, 0.05, 0.01}:\n",
    "    for bootstrap in bin_bootstraps:\n",
    "        percentile = numpy.percentile([get_K(sample) for sample in bootstrap], alpha)\n",
    "        percentilies.append((alpha, len(bootstrap[0]), percentile))\n",
    "        \n",
    "        print(\"alpha={}, n={}, u={}\".format(alpha, len(bootstrap[0]), percentile))"
   ]
  },
  {
   "cell_type": "markdown",
   "metadata": {},
   "source": [
    "Для каждого уровня значимости и для каждого $n$ с помощью посчитанных квантилей получаем критерий вида $\\{K>u\\}$"
   ]
  }
 ],
 "metadata": {
  "kernelspec": {
   "display_name": "Python 3",
   "language": "python",
   "name": "python3"
  },
  "language_info": {
   "codemirror_mode": {
    "name": "ipython",
    "version": 3
   },
   "file_extension": ".py",
   "mimetype": "text/x-python",
   "name": "python",
   "nbconvert_exporter": "python",
   "pygments_lexer": "ipython3",
   "version": "3.5.2"
  }
 },
 "nbformat": 4,
 "nbformat_minor": 2
}
