{
 "cells": [
  {
   "cell_type": "code",
   "execution_count": 1,
   "metadata": {
    "collapsed": true,
    "deletable": true,
    "editable": true
   },
   "outputs": [],
   "source": [
    "import numpy\n",
    "import math\n",
    "from scipy import stats\n",
    "from scipy.optimize import minimize\n",
    "%matplotlib inline"
   ]
  },
  {
   "cell_type": "markdown",
   "metadata": {
    "deletable": true,
    "editable": true
   },
   "source": [
    "Плотности данные в задаче:\n",
    "\n",
    "$$f_0(x, a, b) = \\frac{3b^3}{(x-a)^4}I\\{x>a+b\\}$$\n",
    "\n",
    "$$f_1(x, a, b) = \\frac{1}{2b}\\exp(-\\frac{|x-a|}{b})$$\n",
    "\n",
    "Все, что связано с вероятностями в задаче будем считать путем генерации большого количества выборок из одного распределения и усреднения значений по ним."
   ]
  },
  {
   "cell_type": "code",
   "execution_count": 2,
   "metadata": {
    "collapsed": true,
    "deletable": true,
    "editable": true
   },
   "outputs": [],
   "source": [
    "# Функции для генериции выборок в наших обозначениях\n",
    "\n",
    "def pareto_sample(a, b, N):\n",
    "    return stats.pareto.rvs(b=3, loc=a, scale=b, size=N)\n",
    "\n",
    "def laplace_sample(a, b, N):\n",
    "    return stats.laplace.rvs(loc=a, scale=b, size=N)"
   ]
  },
  {
   "cell_type": "code",
   "execution_count": 3,
   "metadata": {
    "collapsed": false,
    "deletable": true,
    "editable": true
   },
   "outputs": [],
   "source": [
    "# Правдоподобие для Парето и Лапласа. Не используется, нужно только для сравнения с функциями из следующего блока.\n",
    "\n",
    "def pareto(sample, a, b):\n",
    "    if sample.min() <= a + b:\n",
    "        return 0\n",
    "    else:\n",
    "        return ((3 * b ** 3) ** len(sample)) / numpy.prod(numpy.array([math.pow((x - a), 4) for x in sample]))\n",
    "\n",
    "def laplace(sample, a, b):\n",
    "    return numpy.exp(-numpy.sum(numpy.array([numpy.absolute(x - a) for x in sample])) / b) / (2 * b) ** len(sample)"
   ]
  },
  {
   "cell_type": "code",
   "execution_count": 4,
   "metadata": {
    "collapsed": false,
    "deletable": true,
    "editable": true
   },
   "outputs": [],
   "source": [
    "# Корни n-ой степени правдоподобий. Используем их, чтобы числа не получались слишком большими\n",
    "\n",
    "def nroot_pareto(sample, a, b):\n",
    "    if sample.min() <= a + b:\n",
    "        return 0\n",
    "    else:\n",
    "        return (3 * b ** 3) / numpy.prod(numpy.array([math.pow((x - a), 4 / len(sample)) for x in sample]))\n",
    "\n",
    "def nroot_laplace(sample, a, b):\n",
    "    return numpy.exp(-numpy.sum(numpy.array([numpy.absolute(x - a) for x in sample])) / (b * len(sample))) / (2 * b)"
   ]
  },
  {
   "cell_type": "code",
   "execution_count": 5,
   "metadata": {
    "collapsed": false,
    "deletable": true,
    "editable": true
   },
   "outputs": [],
   "source": [
    "# Корень n-ой степени из RML. Считаем максимумы спомощью scipy.optimize\n",
    "# (тут еще нужен подгон начальных приближений, чтобы оптимизация нормально сработала)\n",
    "\n",
    "def nroot_RML(sample):\n",
    "    laplace_optimization = minimize(\n",
    "        lambda params, sample: -nroot_laplace(sample, params[0], params[1]),\n",
    "        [numpy.min(sample) - 10, 1], args=sample, bounds=((None, None), (0, None)), method='Powell'\n",
    "    )\n",
    "    pareto_optimization = minimize(\n",
    "        lambda params, sample: -nroot_pareto(sample, params[0], params[1]),\n",
    "        [numpy.min(sample) - 10, 1], args=sample, bounds=((None, None), (0, None)), method='Powell'\n",
    "    )\n",
    "    \n",
    "    return laplace_optimization['fun'] / pareto_optimization['fun']"
   ]
  },
  {
   "cell_type": "code",
   "execution_count": 6,
   "metadata": {
    "collapsed": true,
    "deletable": true,
    "editable": true
   },
   "outputs": [],
   "source": [
    "# Частота выполнения критерия для заданных выборок и заданной квантили. Нужно для рассчета мощности критерия.\n",
    "\n",
    "def probability(samples, u):\n",
    "    return numpy.mean([(1 if (nroot_RML(sample) >  u) else 0) for sample in samples])"
   ]
  },
  {
   "cell_type": "code",
   "execution_count": 7,
   "metadata": {
    "collapsed": false,
    "deletable": true,
    "editable": true
   },
   "outputs": [],
   "source": [
    "# Поскольку по условию RML не зависит от a и b, возмем их какими-нибудь, например 1, 1\n",
    "\n",
    "alphas = [0.1, 0.05, 0.01]\n",
    "ns = [50, 100, 200]\n",
    "bootstreps_length = 1000\n",
    "a = 1\n",
    "b = 1\n",
    "\n",
    "# Генерируем много выборок из распределения с плотностью f_0 чтобы посчитать квантили.\n",
    "pareto_bootstreps = [\n",
    "    [pareto_sample(a, b, n) for i in range(bootstreps_length)]\n",
    "    for n in ns\n",
    "]"
   ]
  },
  {
   "cell_type": "code",
   "execution_count": 8,
   "metadata": {
    "collapsed": false,
    "deletable": true,
    "editable": true
   },
   "outputs": [
    {
     "name": "stderr",
     "output_type": "stream",
     "text": [
      "/usr/lib/python3.5/site-packages/scipy/optimize/_minimize.py:394: RuntimeWarning: Method Powell cannot handle constraints nor bounds.\n",
      "  RuntimeWarning)\n",
      "/usr/lib/python3.5/site-packages/ipykernel/__main__.py:10: RuntimeWarning: overflow encountered in exp\n"
     ]
    },
    {
     "name": "stdout",
     "output_type": "stream",
     "text": [
      "alpha=0.1, n=50, u=0.7199872659866569\n",
      "alpha=0.05, n=50, u=0.7576283978334849\n",
      "alpha=0.01, n=50, u=0.810809642389608\n",
      "alpha=0.1, n=100, u=0.6824746039325952\n",
      "alpha=0.05, n=100, u=0.7122449775052603\n",
      "alpha=0.01, n=100, u=0.7548716857819472\n",
      "alpha=0.1, n=200, u=0.662685178589413\n",
      "alpha=0.05, n=200, u=0.6775784572854451\n",
      "alpha=0.01, n=200, u=0.7032138088979488\n"
     ]
    }
   ],
   "source": [
    "quantilies = []\n",
    "\n",
    "# Для каждого alpha и n оцениваем квантили с помощью сортировки массива RML для разных выборок.\n",
    "for pareto_bootstrep in pareto_bootstreps:\n",
    "    for alpha in alphas:\n",
    "        RMLs = [nroot_RML(sample) for sample in pareto_bootstrep]\n",
    "        RMLs.sort()\n",
    "        \n",
    "        # Для каждой полученной квантили генерируем N выборок из распределения с плотностью f_1,\n",
    "        # чтобы оценить мощность критерия\n",
    "        quantilies.append((\n",
    "                len(pareto_bootstrep[0]), RMLs[int((1 - alpha) * len(RMLs))],\n",
    "                [laplace_sample(a, b, len(pareto_bootstrep[0])) for i in range(bootstreps_length)]\n",
    "            )\n",
    "        )\n",
    "        print(\"alpha={}, n={}, u={}\".format(alpha, len(pareto_bootstrep[0]), RMLs[int((1 - alpha) * len(RMLs))]))"
   ]
  },
  {
   "cell_type": "code",
   "execution_count": 9,
   "metadata": {
    "collapsed": false,
    "deletable": true,
    "editable": true
   },
   "outputs": [
    {
     "name": "stderr",
     "output_type": "stream",
     "text": [
      "/usr/lib/python3.5/site-packages/scipy/optimize/_minimize.py:394: RuntimeWarning: Method Powell cannot handle constraints nor bounds.\n",
      "  RuntimeWarning)\n"
     ]
    },
    {
     "name": "stdout",
     "output_type": "stream",
     "text": [
      "n=50, u=0.7199872659866569, p=1.0\n",
      "n=50, u=0.7576283978334849, p=1.0\n",
      "n=50, u=0.810809642389608, p=1.0\n",
      "n=100, u=0.6824746039325952, p=1.0\n",
      "n=100, u=0.7122449775052603, p=1.0\n",
      "n=100, u=0.7548716857819472, p=1.0\n",
      "n=200, u=0.662685178589413, p=1.0\n",
      "n=200, u=0.6775784572854451, p=1.0\n",
      "n=200, u=0.7032138088979488, p=1.0\n"
     ]
    }
   ],
   "source": [
    "probabilities = []\n",
    "\n",
    "# Считаем мощности критериев для всех квантилей\n",
    "for quantile in quantilies:\n",
    "    capacity = probability(quantile[2], quantile[1])\n",
    "    probabilities.append(capacity)\n",
    "    \n",
    "    print(\"n={}, u={}, p={}\".format(quantile[0], quantile[1], capacity))"
   ]
  },
  {
   "cell_type": "markdown",
   "metadata": {
    "deletable": true,
    "editable": true
   },
   "source": [
    "Получили релультат, что мощность всегда равна единице. Это произошло из-за того, что значения корня из RML для Паретто всегда порядка $0.5$ а для Лапласа порядка $150$. Это означет, что если критерий выполнился для распределения Парето, то он с огромной вероятностью выполнится и для Лапласа. Получается, что такой критерий Легко отличает выборку Парето от выборки Лапласа. С таким различием в значениях RML противный результат был бы странным."
   ]
  },
  {
   "cell_type": "code",
   "execution_count": 10,
   "metadata": {
    "collapsed": false,
    "deletable": true,
    "editable": true
   },
   "outputs": [
    {
     "name": "stderr",
     "output_type": "stream",
     "text": [
      "/usr/lib/python3.5/site-packages/scipy/optimize/_minimize.py:394: RuntimeWarning: Method Powell cannot handle constraints nor bounds.\n",
      "  RuntimeWarning)\n"
     ]
    },
    {
     "name": "stdout",
     "output_type": "stream",
     "text": [
      "219.656803587 0.608241393602\n"
     ]
    }
   ],
   "source": [
    "# Для рсравнения значений RML\n",
    "\n",
    "print(nroot_RML(laplace_sample(a, b, 1000)), nroot_RML(pareto_sample(a, b, 1000)))"
   ]
  },
  {
   "cell_type": "markdown",
   "metadata": {
    "deletable": true,
    "editable": true
   },
   "source": [
    "Подтверждение предыдущих слов в блоке выше. Для другой пары распределений могло бы быть по-другому."
   ]
  }
 ],
 "metadata": {
  "kernelspec": {
   "display_name": "Python 3",
   "language": "python",
   "name": "python3"
  },
  "language_info": {
   "codemirror_mode": {
    "name": "ipython",
    "version": 3
   },
   "file_extension": ".py",
   "mimetype": "text/x-python",
   "name": "python",
   "nbconvert_exporter": "python",
   "pygments_lexer": "ipython3",
   "version": "3.6.0"
  }
 },
 "nbformat": 4,
 "nbformat_minor": 2
}
