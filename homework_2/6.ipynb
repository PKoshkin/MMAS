{
 "cells": [
  {
   "cell_type": "code",
   "execution_count": 1,
   "metadata": {
    "collapsed": false
   },
   "outputs": [],
   "source": [
    "import numpy\n",
    "import random\n",
    "from matplotlib import pyplot as plot\n",
    "from scipy import stats\n",
    "from sklearn.model_selection import KFold as k_fold\n",
    "from sklearn.model_selection import train_test_split\n",
    "%matplotlib inline"
   ]
  },
  {
   "cell_type": "code",
   "execution_count": 2,
   "metadata": {
    "collapsed": false
   },
   "outputs": [],
   "source": [
    "with open(\"10.txt\") as file:\n",
    "    data = numpy.array([float(line) for line in file])"
   ]
  },
  {
   "cell_type": "markdown",
   "metadata": {},
   "source": [
    "Рассматривается распределение $\\Gamma(\\alpha, \\theta)$ с плотностью\n",
    "\n",
    "$$p(x)=\\frac{x^{\\alpha-1}\\theta^{\\alpha}e^{-\\theta x}}{\\Gamma(\\alpha)} I\\{x>0\\}$$\n",
    "\n",
    "Оценками метов для параметров $\\alpha$ и $\\theta$ являются\n",
    "\n",
    "$$\\hat\\alpha=\\frac{\\bar{X}}{\\bar{X^2}-\\bar{X}^2}$$ $$\\hat\\theta=\\frac{\\bar{X}^2}{\\bar{X^2}-\\bar{X}^2}$$"
   ]
  },
  {
   "cell_type": "code",
   "execution_count": 3,
   "metadata": {
    "collapsed": false
   },
   "outputs": [],
   "source": [
    "def square_sum(alpha, theta, data):\n",
    "    data.sort()    \n",
    "    return numpy.sum([\n",
    "            (stats.gamma.cdf(data[i], a=theta, scale=1 / alpha) - i / len(data)) ** 2\n",
    "            for i in range(len(data))\n",
    "        ]\n",
    "    )\n",
    "\n",
    "def plot_cdfs(alpha, theta, data):\n",
    "    continious_x = numpy.linspace(-10, 50, 1000)\n",
    "    plot.plot(\n",
    "        continious_x, stats.gamma.cdf(continious_x, a=theta, scale=1 / alpha),\n",
    "        label=\"cdf by evaluated parametrs\", color=\"red\"\n",
    "    )\n",
    "    \n",
    "    data.sort()\n",
    "    plot.scatter(data, [i / len(data) for i in range(len(data))], label=\"empire cdf\", s=5)\n",
    "    plot.gca().legend(loc='lower right')"
   ]
  },
  {
   "cell_type": "markdown",
   "metadata": {},
   "source": [
    "Критерий будет заключаться в определении, насколько сильно эмпирическая функция распределения отличается от реальной (сумма квадратов отклонений в точках значений выборки). Соответственно главная цель - рассчитать пороговое значения этой суммы квадратов.\n",
    "\n",
    "Первый подход к решению задачи. Оценим параметры по всей выборке. Теперь мы получили возможность сгенерировать большое количество выборок из распределения с этими параметрами. По этим выборкам можно посчитать суммы квадратов отклонений и в качестве порогового взять, например, удвоенное среднее или максимальное значение этих отклонений (берем значения по-больше, чтобы уменьшить вероятность ошибки первого рода)."
   ]
  },
  {
   "cell_type": "code",
   "execution_count": 4,
   "metadata": {
    "collapsed": false
   },
   "outputs": [
    {
     "data": {
      "image/png": "[encoded data removed]",
      "text/plain": [
       "<matplotlib.figure.Figure at 0x7fdc806497f0>"
      ]
     },
     "metadata": {},
     "output_type": "display_data"
    }
   ],
   "source": [
    "#  Оценили параметры\n",
    "alpha = numpy.mean(data) / (numpy.mean(data ** 2) - numpy.mean(data) ** 2)\n",
    "theta = numpy.mean(data) ** 2 / (numpy.mean(data ** 2) - numpy.mean(data) ** 2)\n",
    "\n",
    "# Нарисуем картинку для наглядности.\n",
    "plot_cdfs(alpha, theta, data)"
   ]
  },
  {
   "cell_type": "code",
   "execution_count": 5,
   "metadata": {
    "collapsed": false
   },
   "outputs": [],
   "source": [
    "N = 1000\n",
    "bootstrap_size = 1000\n",
    "\n",
    "# Сгенерировали выборки с этими параметрами и посчитали отклонения\n",
    "samples = [stats.gamma.rvs(a=theta, scale=1 / alpha, size=N) for i in range(bootstrap_size)]\n",
    "square_sums = [square_sum(alpha, theta, sample) for sample in samples]"
   ]
  },
  {
   "cell_type": "code",
   "execution_count": 6,
   "metadata": {
    "collapsed": false
   },
   "outputs": [
    {
     "name": "stdout",
     "output_type": "stream",
     "text": [
      "min: 0.01630912601555759, max: 1.4063606525257226, mean: 0.16368447560587412\n"
     ]
    }
   ],
   "source": [
    "# Посмотрим на распределения значения отклонений чтобы сравнить его с отклонением на выборке\n",
    "print(\"min: {}, max: {}, mean: {}\".format(numpy.min(square_sums), numpy.max(square_sums), numpy.mean(square_sums)))"
   ]
  },
  {
   "cell_type": "code",
   "execution_count": 7,
   "metadata": {
    "collapsed": false
   },
   "outputs": [
    {
     "name": "stdout",
     "output_type": "stream",
     "text": [
      "test value: 0.049356859487077624\n"
     ]
    }
   ],
   "source": [
    "# Считаем отклонение на выборке\n",
    "print(\"test value: {}\".format(square_sum(alpha, theta, data)))"
   ]
  },
  {
   "cell_type": "markdown",
   "metadata": {},
   "source": [
    "Видно, что какое бы разумное значение порога мы не взяли, значение на выборке получится меньше его, а значит можно считать, что гипотеза по принадлежности к нашему распределению верна.\n",
    "\n",
    "Второй подход к решению заключается в следующем. Разделим выборку на 2 части. В первую будем использовать для оценки порогового значения, а вторую для проверки гипотезы."
   ]
  },
  {
   "cell_type": "code",
   "execution_count": 8,
   "metadata": {
    "collapsed": false
   },
   "outputs": [],
   "source": [
    "# Разделяем данные на обучающие и тестовые. Для тестов при этом оставим треть выборки.\n",
    "train_data, test_data = train_test_split(data, test_size = (1 / 3))"
   ]
  },
  {
   "cell_type": "code",
   "execution_count": 9,
   "metadata": {
    "collapsed": false
   },
   "outputs": [
    {
     "name": "stdout",
     "output_type": "stream",
     "text": [
      "alpha=0.4500347731567252, train_alpha=0.46719060333424506, theta=5.556493837559186, train_theta=5.665135692474539\n"
     ]
    }
   ],
   "source": [
    "# Снова оцениваем параметры. Теперь по обучающей части выборки.\n",
    "train_alpha = numpy.mean(train_data) / (numpy.mean(train_data ** 2) - numpy.mean(train_data) ** 2)\n",
    "train_theta = numpy.mean(train_data) ** 2 / (numpy.mean(train_data ** 2) - numpy.mean(train_data) ** 2)\n",
    "\n",
    "# А теперь сравним как изменились эти оценки\n",
    "print(\"alpha={}, train_alpha={}, theta={}, train_theta={}\".format(alpha, train_alpha, theta, train_theta))"
   ]
  },
  {
   "cell_type": "markdown",
   "metadata": {},
   "source": [
    "Оценки не очень сильно изменились. Будем использовать оценки по обучающей части выборки."
   ]
  },
  {
   "cell_type": "code",
   "execution_count": 10,
   "metadata": {
    "collapsed": true
   },
   "outputs": [],
   "source": [
    "# С помощью функции sklearn'а генерируем выборки из обучающей части.\n",
    "# при этом делаем их размер такой же, как у тестирующей части выборки.\n",
    "train_data_samples = [\n",
    "    train_test_split(train_data, test_size = 0.5)[0]\n",
    "    for i in range(bootstrap_size)\n",
    "]\n",
    "train_data_square_sums = [square_sum(train_alpha, train_theta, sample) for sample in train_data_samples]"
   ]
  },
  {
   "cell_type": "code",
   "execution_count": 11,
   "metadata": {
    "collapsed": false
   },
   "outputs": [
    {
     "name": "stdout",
     "output_type": "stream",
     "text": [
      "min: 0.014685073928130257, max: 0.8055784393914094, mean: 0.11424562361213907\n"
     ]
    }
   ],
   "source": [
    "# Опять смотрим на распределения значения отклонений\n",
    "print(\"min: {}, max: {}, mean: {}\".format(\n",
    "        numpy.min(train_data_square_sums), numpy.max(train_data_square_sums), numpy.mean(train_data_square_sums)\n",
    "    )\n",
    ")"
   ]
  },
  {
   "cell_type": "code",
   "execution_count": 12,
   "metadata": {
    "collapsed": false
   },
   "outputs": [
    {
     "name": "stdout",
     "output_type": "stream",
     "text": [
      "0.152052704049\n"
     ]
    }
   ],
   "source": [
    "# И на знаачение отклонения на тестовой выборке\n",
    "print(square_sum(train_alpha, train_theta, test_data))"
   ]
  },
  {
   "cell_type": "markdown",
   "metadata": {},
   "source": [
    "Заключение осталось таким же (выбираем порог равный удвоенному среднему или макимальному значению отклонения). Только изменилось значение порога. Идейная проблема второго метода в том, что вслучае, если гипотеза на самом деле не верна, оценка порога по частям выборки могла бы быть неверной. Впрочем для неверной гипотезы не обязаны хорошо работать даже оценки параметров. Поэтому в целом методы равносильны."
   ]
  }
 ],
 "metadata": {
  "kernelspec": {
   "display_name": "Python 3",
   "language": "python",
   "name": "python3"
  },
  "language_info": {
   "codemirror_mode": {
    "name": "ipython",
    "version": 3
   },
   "file_extension": ".py",
   "mimetype": "text/x-python",
   "name": "python",
   "nbconvert_exporter": "python",
   "pygments_lexer": "ipython3",
   "version": "3.5.2"
  }
 },
 "nbformat": 4,
 "nbformat_minor": 2
}
