{
 "cells": [
  {
   "cell_type": "code",
   "execution_count": 13,
   "metadata": {
    "collapsed": false,
    "deletable": true,
    "editable": true
   },
   "outputs": [],
   "source": [
    "import numpy\n",
    "from matplotlib import pyplot as plot\n",
    "from scipy import stats\n",
    "%matplotlib inline"
   ]
  },
  {
   "cell_type": "code",
   "execution_count": 18,
   "metadata": {
    "collapsed": true,
    "deletable": true,
    "editable": true
   },
   "outputs": [],
   "source": [
    "with open(\"3.txt\") as file:\n",
    "    data = numpy.array([float(line.split(',')[3]) for line in file])"
   ]
  },
  {
   "cell_type": "code",
   "execution_count": 19,
   "metadata": {
    "collapsed": false,
    "deletable": true,
    "editable": true
   },
   "outputs": [
    {
     "data": {
      "text/plain": [
       "[<matplotlib.lines.Line2D at 0x7f0c5e3ae550>]"
      ]
     },
     "execution_count": 19,
     "metadata": {},
     "output_type": "execute_result"
    },
    {
     "data": {
      "image/png": "[encoded data removed]",
      "text/plain": [
       "<matplotlib.figure.Figure at 0x7f0c5df0ffd0>"
      ]
     },
     "metadata": {},
     "output_type": "display_data"
    }
   ],
   "source": [
    "plot.hist(data, bins=len(data), normed=True)\n",
    "cont_x = numpy.linspace(1, 4, 1000)\n",
    "plot.plot(cont_x, stats.norm.pdf(cont_x, loc=2.36651685393, scale=1/7))"
   ]
  },
  {
   "cell_type": "code",
   "execution_count": 4,
   "metadata": {
    "collapsed": false,
    "deletable": true,
    "editable": true
   },
   "outputs": [
    {
     "data": {
      "text/plain": [
       "<matplotlib.collections.PathCollection at 0x7f0c5ea50e10>"
      ]
     },
     "execution_count": 4,
     "metadata": {},
     "output_type": "execute_result"
    },
    {
     "data": {
      "image/png": "[encoded data removed]",
      "text/plain": [
       "<matplotlib.figure.Figure at 0x7f0c845cbeb8>"
      ]
     },
     "metadata": {},
     "output_type": "display_data"
    }
   ],
   "source": [
    "n = len(data)\n",
    "\n",
    "def inverse_F(x):\n",
    "    return stats.norm.isf(1 - x)\n",
    "\n",
    "sorted_data = numpy.copy(data)\n",
    "sorted_data.sort()\n",
    "QQplot = numpy.array([(sorted_data[i], inverse_F((i - 0.5) / n)) for i in range(n)])\n",
    "plot.scatter(QQplot[:,0], QQplot[:,1])"
   ]
  },
  {
   "cell_type": "markdown",
   "metadata": {
    "deletable": true,
    "editable": true
   },
   "source": [
    "http://www.machinelearning.ru/wiki/index.php?title=Критерий_Шапиро-Уилка\n",
    "\n",
    "$B=\\Bigl(\\sum_{j=1}^m a_j(x_{n-j}-x_j)\\Bigr)^2$\n",
    "$m=\\left[\\frac{n}{2}\\right]; \\; a_0=\\frac{0,899}{\\left(n-2,4\\right)^{0,4162}}-0,02; \\; a_j=a_0\\left[z+\\frac{1483}{(3-z)^{10,845}}+\\frac{71,6\\times10^{-10}}{(1,1-z)^{8,26}}\\right]; \\; z=\\frac{n-2j+1}{n-0,5}$\n",
    "\n",
    "$W_1=\\left(1-\\frac{0,6695}{n^{0,6518}}\\right)\\frac{s^2}{B}, $"
   ]
  },
  {
   "cell_type": "code",
   "execution_count": 5,
   "metadata": {
    "collapsed": false,
    "deletable": true,
    "editable": true
   },
   "outputs": [],
   "source": [
    "m = round(len(data) / 2)\n",
    "\n",
    "def z(j):\n",
    "    return (n - 2 * j + 1) / (n - 0.5)\n",
    "\n",
    "a = [(0.899) / (n - 2.4) ** 0.4162 - 0.02]\n",
    "a.extend([\n",
    "    a[0] * (\n",
    "        z(j) + (1483) / (3 - z(j)) ** 10.845 + (71.6e-10) / (1.1 - z(j)) ** 8.26\n",
    "    ) for j in range(1, m)\n",
    "])\n",
    "\n",
    "B = numpy.sum([a[j] * (data[n - j - 1] - data[j]) for j in range(m)]) ** 2\n",
    "s2 = numpy.mean(data ** 2) - numpy.mean(data) ** 2\n",
    "W_1 = (1 - (0.6695) / (n ** 0.6518)) * s2 / B"
   ]
  },
  {
   "cell_type": "code",
   "execution_count": 6,
   "metadata": {
    "collapsed": false,
    "deletable": true,
    "editable": true
   },
   "outputs": [
    {
     "name": "stdout",
     "output_type": "stream",
     "text": [
      "13.0050341582\n"
     ]
    }
   ],
   "source": [
    "print(W_1)"
   ]
  },
  {
   "cell_type": "code",
   "execution_count": 7,
   "metadata": {
    "collapsed": false,
    "deletable": true,
    "editable": true
   },
   "outputs": [
    {
     "name": "stdout",
     "output_type": "stream",
     "text": [
      "2.36651685393 0.0748418002777\n"
     ]
    }
   ],
   "source": [
    "print(data.mean(), s2)"
   ]
  },
  {
   "cell_type": "markdown",
   "metadata": {
    "deletable": true,
    "editable": true
   },
   "source": [
    "$N(2.37, 0.075) ?$"
   ]
  },
  {
   "cell_type": "code",
   "execution_count": 12,
   "metadata": {
    "collapsed": false,
    "deletable": true,
    "editable": true
   },
   "outputs": [
    {
     "data": {
      "text/plain": [
       "AndersonResult(statistic=0.42040773915101681, critical_values=array([ 0.425,  0.562,  0.659,  0.768,  0.905,  1.009]), significance_level=array([ 25. ,  10. ,   5. ,   2.5,   1. ,   0.5]))"
      ]
     },
     "execution_count": 12,
     "metadata": {},
     "output_type": "execute_result"
    }
   ],
   "source": [
    "stats.anderson(data, dist='logistic')"
   ]
  },
  {
   "cell_type": "code",
   "execution_count": 20,
   "metadata": {
    "collapsed": false,
    "deletable": true,
    "editable": true
   },
   "outputs": [
    {
     "data": {
      "text/plain": [
       "(0.9839471578598022, 0.03868526220321655)"
      ]
     },
     "execution_count": 20,
     "metadata": {},
     "output_type": "execute_result"
    }
   ],
   "source": [
    "stats.shapiro(data)"
   ]
  },
  {
   "cell_type": "code",
   "execution_count": null,
   "metadata": {
    "collapsed": true
   },
   "outputs": [],
   "source": []
  }
 ],
 "metadata": {
  "kernelspec": {
   "display_name": "Python 3",
   "language": "python",
   "name": "python3"
  },
  "language_info": {
   "codemirror_mode": {
    "name": "ipython",
    "version": 3
   },
   "file_extension": ".py",
   "mimetype": "text/x-python",
   "name": "python",
   "nbconvert_exporter": "python",
   "pygments_lexer": "ipython3",
   "version": "3.5.2"
  }
 },
 "nbformat": 4,
 "nbformat_minor": 2
}
