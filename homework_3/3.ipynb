{
 "cells": [
  {
   "cell_type": "code",
   "execution_count": 1,
   "metadata": {
    "collapsed": false,
    "deletable": true,
    "editable": true
   },
   "outputs": [],
   "source": [
    "import numpy\n",
    "from matplotlib import pyplot as plot\n",
    "from scipy import stats\n",
    "from statsmodels.graphics.gofplots import qqplot\n",
    "%matplotlib inline"
   ]
  },
  {
   "cell_type": "code",
   "execution_count": 2,
   "metadata": {
    "collapsed": true,
    "deletable": true,
    "editable": true
   },
   "outputs": [],
   "source": [
    "with open(\"3.txt\") as file:\n",
    "    data = numpy.array([float(line.split(',')[3]) for line in file])"
   ]
  },
  {
   "cell_type": "markdown",
   "metadata": {},
   "source": [
    "Проверим гипотезу того, что распределение логистическое.\n",
    "https://docs.scipy.org/doc/scipy/reference/generated/scipy.stats.logistic.html"
   ]
  },
  {
   "cell_type": "code",
   "execution_count": 3,
   "metadata": {
    "collapsed": false,
    "deletable": true,
    "editable": true
   },
   "outputs": [
    {
     "data": {
      "text/plain": [
       "[<matplotlib.lines.Line2D at 0x10a38a5f8>]"
      ]
     },
     "execution_count": 3,
     "metadata": {},
     "output_type": "execute_result"
    },
    {
     "data": {
      "image/png": "[encoded data removed]",
      "text/plain": [
       "<matplotlib.figure.Figure at 0x10a38a588>"
      ]
     },
     "metadata": {},
     "output_type": "display_data"
    }
   ],
   "source": [
    "# Посмотрим на гистограмму\n",
    "\n",
    "plot.hist(data, bins=30, normed=True)\n",
    "cont_x = numpy.linspace(1, 4, 1000)\n",
    "loc, scale = stats.logistic.fit(data)\n",
    "plot.plot(cont_x, stats.logistic.pdf(cont_x, loc=loc, scale=scale))"
   ]
  },
  {
   "cell_type": "code",
   "execution_count": 4,
   "metadata": {
    "collapsed": false
   },
   "outputs": [
    {
     "data": {
      "text/plain": [
       "<matplotlib.collections.PathCollection at 0x10a5d75c0>"
      ]
     },
     "execution_count": 4,
     "metadata": {},
     "output_type": "execute_result"
    },
    {
     "data": {
      "image/png": "[encoded data removed]",
      "text/plain": [
       "<matplotlib.figure.Figure at 0x10a42ae80>"
      ]
     },
     "metadata": {},
     "output_type": "display_data"
    }
   ],
   "source": [
    "# Посмотрим на QQplot\n",
    "\n",
    "n = len(data)\n",
    "\n",
    "sorted_data = numpy.copy(data)\n",
    "sorted_data.sort()\n",
    "QQplot = numpy.array([\n",
    "    (sorted_data[i], stats.logistic.isf(1 - ((i - 0.5) / n), loc=loc, scale=scale))\n",
    "    for i in range(n)\n",
    "])\n",
    "plot.scatter(QQplot[:,0], QQplot[:,1])"
   ]
  },
  {
   "cell_type": "code",
   "execution_count": 5,
   "metadata": {
    "collapsed": false,
    "deletable": true,
    "editable": true
   },
   "outputs": [
    {
     "data": {
      "text/plain": [
       "AndersonResult(statistic=0.42040773915101681, critical_values=array([ 0.425,  0.562,  0.659,  0.768,  0.905,  1.009]), significance_level=array([ 25. ,  10. ,   5. ,   2.5,   1. ,   0.5]))"
      ]
     },
     "execution_count": 5,
     "metadata": {},
     "output_type": "execute_result"
    }
   ],
   "source": [
    "# Посмотрим на критерй Андерсона\n",
    "stats.anderson(data, dist='logistic')"
   ]
  },
  {
   "cell_type": "markdown",
   "metadata": {},
   "source": [
    "QQplot похож на прямую. На уровне значимости 0.25 отвергуть гитотезу логистичского распределения нельзя по критерию Андерсона нельзя. Гистограмма выглядит похоже. Кучу критерием для нормальности в нашей гипотезе проверить нельзя. Можно считать, что распределение логистическое. Параметры оцениваются с помощью fit."
   ]
  },
  {
   "cell_type": "code",
   "execution_count": 6,
   "metadata": {
    "collapsed": false
   },
   "outputs": [
    {
     "name": "stdout",
     "output_type": "stream",
     "text": [
      "loc=2.369845464521089, scale=0.15102727076040154\n"
     ]
    }
   ],
   "source": [
    "print(\"loc={}, scale={}\".format(loc, scale))"
   ]
  }
 ],
 "metadata": {
  "kernelspec": {
   "display_name": "Python 3",
   "language": "python",
   "name": "python3"
  },
  "language_info": {
   "codemirror_mode": {
    "name": "ipython",
    "version": 3
   },
   "file_extension": ".py",
   "mimetype": "text/x-python",
   "name": "python",
   "nbconvert_exporter": "python",
   "pygments_lexer": "ipython3",
   "version": "3.6.0"
  }
 },
 "nbformat": 4,
 "nbformat_minor": 2
}
