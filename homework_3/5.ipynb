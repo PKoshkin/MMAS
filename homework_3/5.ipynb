{
 "cells": [
  {
   "cell_type": "code",
   "execution_count": 1,
   "metadata": {
    "collapsed": true,
    "deletable": true,
    "editable": true
   },
   "outputs": [],
   "source": [
    "import numpy\n",
    "from scipy.integrate import quad\n",
    "from scipy import stats"
   ]
  },
  {
   "cell_type": "code",
   "execution_count": 2,
   "metadata": {
    "collapsed": false,
    "deletable": true,
    "editable": true
   },
   "outputs": [],
   "source": [
    "def empirical_cdf(x, sample):\n",
    "    return numpy.sum([1 for value in sample if value <= x]) / len(sample)\n",
    "\n",
    "def integrand(x, sample):\n",
    "    return (\n",
    "        (stats.norm.cdf(x) - empirical_cdf(x, sample)) ** 2 /\n",
    "        ((1 - stats.norm.cdf(x)) * stats.norm.cdf(x)) * stats.norm.pdf(x)\n",
    "        if -37 <= x <= 8 else 0\n",
    "    )\n",
    "\n",
    "def Omega2(sample):\n",
    "    return quad(integrand, -numpy.inf, numpy.inf, args=sample)[0]"
   ]
  },
  {
   "cell_type": "code",
   "execution_count": 3,
   "metadata": {
    "collapsed": false,
    "deletable": true,
    "editable": true
   },
   "outputs": [],
   "source": [
    "alphas = {0.01, 0.05, 0.1}\n",
    "ns = {25, 100, 500, 2000}\n",
    "bootstrap_size = 100"
   ]
  },
  {
   "cell_type": "code",
   "execution_count": null,
   "metadata": {
    "collapsed": false
   },
   "outputs": [
    {
     "name": "stdout",
     "output_type": "stream",
     "text": [
      "(2000, 0.05): "
     ]
    },
    {
     "name": "stderr",
     "output_type": "stream",
     "text": [
      "/usr/local/lib/python3.6/site-packages/scipy/integrate/quadpack.py:356: IntegrationWarning: The maximum number of subdivisions (50) has been achieved.\n",
      "  If increasing the limit yields no improvement it is advised to analyze \n",
      "  the integrand in order to determine the difficulties.  If the position of a \n",
      "  local difficulty can be determined (singularity, discontinuity) one will \n",
      "  probably gain from splitting up the interval and calling the integrator \n",
      "  on the subranges.  Perhaps a special-purpose integrator should be used.\n",
      "  warnings.warn(msg, IntegrationWarning)\n"
     ]
    }
   ],
   "source": [
    "quantilies = {}\n",
    "for n in ns:\n",
    "    samples = [stats.norm.rvs(size=n) for i in range(bootstrap_size)]\n",
    "    for alpha in alphas:\n",
    "        print(\"{}: \".format((n, alpha)), end=\"\")\n",
    "        values = [Omega2(sample) for sample in samples]\n",
    "        values.sort()\n",
    "        quantilies[(n, alpha)] = values[int(alpha * len(values))]\n",
    "        print(values[int(alpha * len(values))])"
   ]
  },
  {
   "cell_type": "code",
   "execution_count": null,
   "metadata": {
    "collapsed": true,
    "deletable": true,
    "editable": true
   },
   "outputs": [],
   "source": []
  }
 ],
 "metadata": {
  "kernelspec": {
   "display_name": "Python 3",
   "language": "python",
   "name": "python3"
  },
  "language_info": {
   "codemirror_mode": {
    "name": "ipython",
    "version": 3
   },
   "file_extension": ".py",
   "mimetype": "text/x-python",
   "name": "python",
   "nbconvert_exporter": "python",
   "pygments_lexer": "ipython3",
   "version": "3.6.0"
  }
 },
 "nbformat": 4,
 "nbformat_minor": 2
}
