{
 "cells": [
  {
   "cell_type": "code",
   "execution_count": 1,
   "metadata": {
    "collapsed": false,
    "deletable": true,
    "editable": true
   },
   "outputs": [],
   "source": [
    "import numpy\n",
    "from scipy.integrate import quad\n",
    "from scipy import stats\n",
    "from statsmodels.distributions.empirical_distribution import ECDF"
   ]
  },
  {
   "cell_type": "code",
   "execution_count": 2,
   "metadata": {
    "collapsed": false,
    "deletable": true,
    "editable": true
   },
   "outputs": [],
   "source": [
    "def integrand(x, cdf, pdf, ecdf):\n",
    "    return (\n",
    "        (cdf(x) - ecdf(x)) ** 2 /\n",
    "        ((1 - cdf(x)) * cdf(x)) * pdf(x)\n",
    "    )\n",
    "\n",
    "# Надо немного пошаманить с пределами интегрирования, чтобы не выскакивали Nan'ы\n",
    "def Omega2(sample, scipy_distribution):\n",
    "    ecdf = ECDF(sample)\n",
    "    return quad(integrand, -37, 8, args=(scipy_distribution.cdf, scipy_distribution.pdf, ecdf))[0]"
   ]
  },
  {
   "cell_type": "code",
   "execution_count": 3,
   "metadata": {
    "collapsed": false,
    "deletable": true,
    "editable": true
   },
   "outputs": [],
   "source": [
    "alphas = {0.01, 0.05, 0.1}\n",
    "ns = {25, 100, 500, 2000}\n",
    "bootstrap_size = 100"
   ]
  },
  {
   "cell_type": "code",
   "execution_count": 4,
   "metadata": {
    "collapsed": false,
    "deletable": true,
    "editable": true
   },
   "outputs": [
    {
     "name": "stderr",
     "output_type": "stream",
     "text": [
      "/usr/local/lib/python3.6/site-packages/scipy/integrate/quadpack.py:356: IntegrationWarning: The maximum number of subdivisions (50) has been achieved.\n",
      "  If increasing the limit yields no improvement it is advised to analyze \n",
      "  the integrand in order to determine the difficulties.  If the position of a \n",
      "  local difficulty can be determined (singularity, discontinuity) one will \n",
      "  probably gain from splitting up the interval and calling the integrator \n",
      "  on the subranges.  Perhaps a special-purpose integrator should be used.\n",
      "  warnings.warn(msg, IntegrationWarning)\n"
     ]
    }
   ],
   "source": [
    "quantilies = {}\n",
    "for n in ns:\n",
    "    samples = [stats.norm.rvs(size=n) for i in range(bootstrap_size)]\n",
    "    values = numpy.array([n * Omega2(sample, stats.norm) for sample in samples])\n",
    "    for alpha in alphas:\n",
    "        quantilies[(n, alpha)] = numpy.percentile(values, 100 * (1 - alpha))"
   ]
  },
  {
   "cell_type": "code",
   "execution_count": 8,
   "metadata": {
    "collapsed": false
   },
   "outputs": [
    {
     "data": {
      "text/plain": [
       "{(25, 0.01): 2.6427273541901486,\n",
       " (25, 0.05): 2.0457642046807138,\n",
       " (25, 0.1): 1.5127067448622049,\n",
       " (100, 0.01): 4.1716083654555947,\n",
       " (100, 0.05): 2.442005852057664,\n",
       " (100, 0.1): 2.1056332644331968,\n",
       " (500, 0.01): 3.2721420612855869,\n",
       " (500, 0.05): 1.8098952497219156,\n",
       " (500, 0.1): 1.5258246626840002,\n",
       " (2000, 0.01): 3.7885549483564649,\n",
       " (2000, 0.05): 3.1635547961551453,\n",
       " (2000, 0.1): 2.400199912616571}"
      ]
     },
     "execution_count": 8,
     "metadata": {},
     "output_type": "execute_result"
    }
   ],
   "source": [
    "quantilies"
   ]
  },
  {
   "cell_type": "code",
   "execution_count": 5,
   "metadata": {
    "collapsed": false,
    "deletable": true,
    "editable": true
   },
   "outputs": [
    {
     "name": "stderr",
     "output_type": "stream",
     "text": [
      "/usr/local/lib/python3.6/site-packages/scipy/integrate/quadpack.py:356: IntegrationWarning: The maximum number of subdivisions (50) has been achieved.\n",
      "  If increasing the limit yields no improvement it is advised to analyze \n",
      "  the integrand in order to determine the difficulties.  If the position of a \n",
      "  local difficulty can be determined (singularity, discontinuity) one will \n",
      "  probably gain from splitting up the interval and calling the integrator \n",
      "  on the subranges.  Perhaps a special-purpose integrator should be used.\n",
      "  warnings.warn(msg, IntegrationWarning)\n"
     ]
    }
   ],
   "source": [
    "powers = {}\n",
    "ks_powers = {}\n",
    "student_bootstraps = {n: [stats.t.rvs(df=10, size=n) for i in range(bootstrap_size)] for n in ns}\n",
    "\n",
    "for n, alpha in quantilies:\n",
    "    satisfing_counter = 0\n",
    "    ks_satisfing_counter = 0\n",
    "    for sample in student_bootstraps[n]:\n",
    "        satisfing_counter += 1 if n * Omega2(sample, stats.norm) > quantilies[(n, alpha)] else 0\n",
    "        ks_satisfing_counter += (\n",
    "            1 if (stats.kstest(sample, 'norm').statistic > stats.ksone.ppf(1 - alpha, n)) else 0\n",
    "        )\n",
    "    powers[(n, alpha)] = satisfing_counter / bootstrap_size\n",
    "    ks_powers[(n, alpha)] = ks_satisfing_counter / bootstrap_size"
   ]
  },
  {
   "cell_type": "code",
   "execution_count": 6,
   "metadata": {
    "collapsed": false
   },
   "outputs": [
    {
     "data": {
      "text/plain": [
       "{(25, 0.01): 0.05,\n",
       " (25, 0.05): 0.16,\n",
       " (25, 0.1): 0.25,\n",
       " (100, 0.01): 0.01,\n",
       " (100, 0.05): 0.11,\n",
       " (100, 0.1): 0.14,\n",
       " (500, 0.01): 0.12,\n",
       " (500, 0.05): 0.45,\n",
       " (500, 0.1): 0.56,\n",
       " (2000, 0.01): 0.62,\n",
       " (2000, 0.05): 0.74,\n",
       " (2000, 0.1): 0.93}"
      ]
     },
     "execution_count": 6,
     "metadata": {},
     "output_type": "execute_result"
    }
   ],
   "source": [
    "powers"
   ]
  },
  {
   "cell_type": "code",
   "execution_count": 7,
   "metadata": {
    "collapsed": false
   },
   "outputs": [
    {
     "data": {
      "text/plain": [
       "{(25, 0.01): 0.02,\n",
       " (25, 0.05): 0.08,\n",
       " (25, 0.1): 0.22,\n",
       " (100, 0.01): 0.02,\n",
       " (100, 0.05): 0.09,\n",
       " (100, 0.1): 0.22,\n",
       " (500, 0.01): 0.03,\n",
       " (500, 0.05): 0.13,\n",
       " (500, 0.1): 0.22,\n",
       " (2000, 0.01): 0.09,\n",
       " (2000, 0.05): 0.41,\n",
       " (2000, 0.1): 0.58}"
      ]
     },
     "execution_count": 7,
     "metadata": {},
     "output_type": "execute_result"
    }
   ],
   "source": [
    "ks_powers"
   ]
  },
  {
   "cell_type": "markdown",
   "metadata": {},
   "source": [
    "Критерий Андерсона вышел мощнее, как и обещали на лекции. Квантили посчитаны."
   ]
  }
 ],
 "metadata": {
  "kernelspec": {
   "display_name": "Python 3",
   "language": "python",
   "name": "python3"
  },
  "language_info": {
   "codemirror_mode": {
    "name": "ipython",
    "version": 3
   },
   "file_extension": ".py",
   "mimetype": "text/x-python",
   "name": "python",
   "nbconvert_exporter": "python",
   "pygments_lexer": "ipython3",
   "version": "3.6.0"
  }
 },
 "nbformat": 4,
 "nbformat_minor": 2
}
