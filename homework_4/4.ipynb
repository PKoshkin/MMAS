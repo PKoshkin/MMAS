{
 "cells": [
  {
   "cell_type": "code",
   "execution_count": 1,
   "metadata": {
    "collapsed": false,
    "deletable": true,
    "editable": true
   },
   "outputs": [],
   "source": [
    "import numpy\n",
    "from scipy import stats\n",
    "from statsmodels.sandbox.stats.multicomp import multipletests\n",
    "from matplotlib import pyplot as plot\n",
    "from skgof import ad_test\n",
    "%matplotlib inline"
   ]
  },
  {
   "cell_type": "code",
   "execution_count": 2,
   "metadata": {
    "collapsed": false,
    "deletable": true,
    "editable": true
   },
   "outputs": [],
   "source": [
    "with open(\"4.txt\") as file:\n",
    "    data = numpy.array([float(line.split(',')[1]) for line in file])"
   ]
  },
  {
   "cell_type": "code",
   "execution_count": 3,
   "metadata": {
    "collapsed": false,
    "deletable": true,
    "editable": true
   },
   "outputs": [
    {
     "data": {
      "text/plain": [
       "[<matplotlib.lines.Line2D at 0x10aa8c9b0>]"
      ]
     },
     "execution_count": 3,
     "metadata": {},
     "output_type": "execute_result"
    },
    {
     "data": {
      "image/png": "[encoded data removed]",
      "text/plain": [
       "<matplotlib.figure.Figure at 0x10aa00a58>"
      ]
     },
     "metadata": {},
     "output_type": "display_data"
    }
   ],
   "source": [
    "plot.plot(range(len(data)), data)"
   ]
  },
  {
   "cell_type": "code",
   "execution_count": 4,
   "metadata": {
    "collapsed": true,
    "deletable": true,
    "editable": true
   },
   "outputs": [],
   "source": [
    "def vald_volfit_statistic(sample):\n",
    "    mediana = numpy.percentile(sample, 50)\n",
    "    n_0 = 0\n",
    "    n_1 = 0\n",
    "    N = 0\n",
    "    state = None\n",
    "    for value in sample:\n",
    "        if value >= mediana:\n",
    "            n_1 += 1\n",
    "        else:\n",
    "            n_0 += 1\n",
    "        if state != (value >= mediana):\n",
    "            N += 1\n",
    "            state = (value >= mediana)\n",
    "    \n",
    "    return (\n",
    "        (N - 1 - (2 * n_0 * n_1) / (n_0 + n_1)) / numpy.sqrt(\n",
    "            (2 * n_0 * n_1 * (2 * n_0 * n_1 - n_0 - n_1)) / ((n_0 + n_1) ** 2 * (n_0 + n_1 - 1))\n",
    "        )\n",
    "    )\n",
    "\n",
    "def inversion_statistic(sample):\n",
    "    n = len(sample)\n",
    "    I = 0\n",
    "    for i in range(n):\n",
    "        for j in range(i + 1, n):\n",
    "            if sample[i] > sample[j]:\n",
    "                I += 1\n",
    "    E = n * (n - 1) / 4\n",
    "    D = (2 * n ** 3 + 3 * n ** 2 - 5 * n) / 72\n",
    "    return (I - E) / numpy.sqrt(D)\n",
    "\n",
    "def vald_volfit_p_value(sample):\n",
    "    statistic = vald_volfit_statistic(sample)\n",
    "    if statistic < 0:\n",
    "        return 2 * stats.norm.cdf(statistic)\n",
    "    else:\n",
    "        return 2 * stats.norm.sf(statistic)\n",
    "\n",
    "def inversion_p_value(sample):\n",
    "    statistic = inversion_statistic(sample)\n",
    "    if statistic < 0:\n",
    "        return 2 * stats.norm.cdf(statistic)\n",
    "    else:\n",
    "        return 2 * stats.norm.sf(statistic)"
   ]
  },
  {
   "cell_type": "code",
   "execution_count": 5,
   "metadata": {
    "collapsed": false,
    "deletable": true,
    "editable": true
   },
   "outputs": [],
   "source": [
    "methods = [\n",
    "    (lambda sample: inversion_p_value(sample)),\n",
    "    (lambda sample: vald_volfit_p_value(sample)),\n",
    "    (lambda sample: stats.shapiro(sample)[1]),\n",
    "    (lambda sample: \n",
    "        stats.kstest(\n",
    "            sample, lambda x: stats.norm.cdf(\n",
    "                x, loc=stats.norm.fit(sample)[0],\n",
    "                scale=stats.norm.fit(sample)[1]\n",
    "            )\n",
    "        )[1]\n",
    "    ),\n",
    "    (lambda sample: stats.jarque_bera(sample)[1]),\n",
    "    (lambda sample:\n",
    "        ad_test(\n",
    "            sample, stats.norm(\n",
    "                loc=stats.norm.fit(sample)[0],\n",
    "                scale=stats.norm.fit(sample)[1]\n",
    "            )\n",
    "        )[1]\n",
    "    ),\n",
    "    (lambda sample: stats.skewtest(sample)[1])\n",
    "]\n",
    "\n",
    "methods_names = [\n",
    "    \"inversion\",\n",
    "    \"Vald Volfit\",\n",
    "    \"Shapiro\",\n",
    "    \"SKtest\",\n",
    "    \"Jarque Bera\",\n",
    "    \"Anderson\",\n",
    "    \"skewtest\"\n",
    "]"
   ]
  },
  {
   "cell_type": "code",
   "execution_count": 6,
   "metadata": {
    "collapsed": false,
    "deletable": true,
    "editable": true
   },
   "outputs": [],
   "source": [
    "# Используем метод Холма\n",
    "p_values = [method(data) for method in methods]\n",
    "answers = multipletests(p_values, method=\"holm\", alpha=0.05)[0]"
   ]
  },
  {
   "cell_type": "code",
   "execution_count": 7,
   "metadata": {
    "collapsed": false,
    "deletable": true,
    "editable": true
   },
   "outputs": [
    {
     "name": "stdout",
     "output_type": "stream",
     "text": [
      "inversion: False\n",
      "Vald Volfit: False\n",
      "Shapiro: True\n",
      "SKtest: True\n",
      "Jarque Bera: True\n",
      "Anderson: True\n",
      "skewtest: True\n"
     ]
    }
   ],
   "source": [
    "for method_name, answer in zip(methods_names, answers):\n",
    "    print(\"{}: {}\".format(method_name, not answer))"
   ]
  },
  {
   "cell_type": "markdown",
   "metadata": {
    "deletable": true,
    "editable": true
   },
   "source": [
    "То, что данные выборка отвергается, а нрмальность принимается. Странно, но если случайным образом пошаблить данные, то все будет хорошо. Поэтому гипотезу нормальности можно принять."
   ]
  }
 ],
 "metadata": {
  "kernelspec": {
   "display_name": "Python 3",
   "language": "python",
   "name": "python3"
  },
  "language_info": {
   "codemirror_mode": {
    "name": "ipython",
    "version": 3
   },
   "file_extension": ".py",
   "mimetype": "text/x-python",
   "name": "python",
   "nbconvert_exporter": "python",
   "pygments_lexer": "ipython3",
   "version": "3.6.0"
  }
 },
 "nbformat": 4,
 "nbformat_minor": 2
}
