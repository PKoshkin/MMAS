{
 "cells": [
  {
   "cell_type": "code",
   "execution_count": 1,
   "metadata": {
    "collapsed": false,
    "deletable": true,
    "editable": true
   },
   "outputs": [],
   "source": [
    "import numpy\n",
    "from scipy import stats\n",
    "from matplotlib import pyplot as plot\n",
    "import pandas\n",
    "from statsmodels.sandbox.stats.multicomp import multipletests\n",
    "%matplotlib inline"
   ]
  },
  {
   "cell_type": "code",
   "execution_count": 2,
   "metadata": {
    "collapsed": false,
    "deletable": true,
    "editable": true
   },
   "outputs": [],
   "source": [
    "wine = pandas.read_csv('wine.data', header=None)\n",
    "samples = []\n",
    "\n",
    "samples.append(pandas.read_csv('slump_test.data')['Compressive Strength (28-day)(Mpa)'].values)\n",
    "samples.append(numpy.loadtxt('vowel-context.data').T[6])\n",
    "samples.append(wine.iloc[:, 4].values)\n",
    "samples.append(wine.iloc[:, 1].values)\n",
    "samples.append(wine.iloc[:, 3].values)\n",
    "samples.append(wine.iloc[:, 8].values)\n",
    "samples.append(wine.iloc[:, 9].values)"
   ]
  },
  {
   "cell_type": "markdown",
   "metadata": {
    "deletable": true,
    "editable": true
   },
   "source": [
    "Посмотрим на корреляцию некоторых выборок. Если они окажутся слишком зависимыми, использовать метод Бенджамини-Хохберга будет нельзя."
   ]
  },
  {
   "cell_type": "code",
   "execution_count": 3,
   "metadata": {
    "collapsed": false,
    "deletable": true,
    "editable": true
   },
   "outputs": [
    {
     "data": {
      "text/html": [
       "<div>\n",
       "<table border=\"1\" class=\"dataframe\">\n",
       "  <thead>\n",
       "    <tr style=\"text-align: right;\">\n",
       "      <th></th>\n",
       "      <th>0</th>\n",
       "      <th>1</th>\n",
       "      <th>2</th>\n",
       "      <th>3</th>\n",
       "      <th>4</th>\n",
       "    </tr>\n",
       "  </thead>\n",
       "  <tbody>\n",
       "    <tr>\n",
       "      <th>0</th>\n",
       "      <td>1.000000</td>\n",
       "      <td>-0.310235</td>\n",
       "      <td>0.443367</td>\n",
       "      <td>0.361922</td>\n",
       "      <td>-0.197327</td>\n",
       "    </tr>\n",
       "    <tr>\n",
       "      <th>1</th>\n",
       "      <td>-0.310235</td>\n",
       "      <td>1.000000</td>\n",
       "      <td>0.211545</td>\n",
       "      <td>-0.155929</td>\n",
       "      <td>0.136698</td>\n",
       "    </tr>\n",
       "    <tr>\n",
       "      <th>2</th>\n",
       "      <td>0.443367</td>\n",
       "      <td>0.211545</td>\n",
       "      <td>1.000000</td>\n",
       "      <td>0.186230</td>\n",
       "      <td>0.009652</td>\n",
       "    </tr>\n",
       "    <tr>\n",
       "      <th>3</th>\n",
       "      <td>0.361922</td>\n",
       "      <td>-0.155929</td>\n",
       "      <td>0.186230</td>\n",
       "      <td>1.000000</td>\n",
       "      <td>-0.365845</td>\n",
       "    </tr>\n",
       "    <tr>\n",
       "      <th>4</th>\n",
       "      <td>-0.197327</td>\n",
       "      <td>0.136698</td>\n",
       "      <td>0.009652</td>\n",
       "      <td>-0.365845</td>\n",
       "      <td>1.000000</td>\n",
       "    </tr>\n",
       "  </tbody>\n",
       "</table>\n",
       "</div>"
      ],
      "text/plain": [
       "          0         1         2         3         4\n",
       "0  1.000000 -0.310235  0.443367  0.361922 -0.197327\n",
       "1 -0.310235  1.000000  0.211545 -0.155929  0.136698\n",
       "2  0.443367  0.211545  1.000000  0.186230  0.009652\n",
       "3  0.361922 -0.155929  0.186230  1.000000 -0.365845\n",
       "4 -0.197327  0.136698  0.009652 -0.365845  1.000000"
      ]
     },
     "execution_count": 3,
     "metadata": {},
     "output_type": "execute_result"
    }
   ],
   "source": [
    "test_data = numpy.array(samples[2:])\n",
    "pandas.DataFrame(test_data.T).corr()"
   ]
  },
  {
   "cell_type": "markdown",
   "metadata": {
    "deletable": true,
    "editable": true
   },
   "source": [
    "Между некоторыми выборками корреляция получилась болшой. Вместо Бенджамини-Хохберга будем использовать Бенджамини-Иекутиели."
   ]
  },
  {
   "cell_type": "code",
   "execution_count": 4,
   "metadata": {
    "collapsed": true,
    "deletable": true,
    "editable": true
   },
   "outputs": [],
   "source": [
    "methods = [\n",
    "    (lambda sample: stats.shapiro(sample)[1]),\n",
    "    (lambda sample: \n",
    "        stats.kstest(\n",
    "            sample, lambda x: stats.norm.cdf(\n",
    "                x, loc=stats.norm.fit(sample)[0],\n",
    "                scale=stats.norm.fit(sample)[1]\n",
    "            )\n",
    "        )[1]\n",
    "    ),\n",
    "    (lambda sample: stats.jarque_bera(sample)[1]),\n",
    "    (lambda sample: stats.skewtest(sample)[1])\n",
    "]"
   ]
  },
  {
   "cell_type": "code",
   "execution_count": 5,
   "metadata": {
    "collapsed": false,
    "deletable": true,
    "editable": true
   },
   "outputs": [],
   "source": [
    "p_values = []\n",
    "for i in range(len(samples)):\n",
    "    for j in range(len(methods)):\n",
    "        p_values.append((i, j, methods[j](samples[i])))\n",
    "p_values = numpy.array(p_values)\n",
    "answers = multipletests(p_values[:,2], method=\"fdr_by\", alpha=0.05)[0]"
   ]
  },
  {
   "cell_type": "markdown",
   "metadata": {
    "deletable": true,
    "editable": true
   },
   "source": [
    "Буем принимать гипотезу, если нет критериев, которые ее отвергли. Посмотрим на гистограмки и результаты."
   ]
  },
  {
   "cell_type": "code",
   "execution_count": 6,
   "metadata": {
    "collapsed": false,
    "deletable": true,
    "editable": true,
    "scrolled": false
   },
   "outputs": [
    {
     "data": {
      "image/png": "[encoded data removed]",
      "text/plain": [
       "<matplotlib.figure.Figure at 0x1122e47f0>"
      ]
     },
     "metadata": {},
     "output_type": "display_data"
    },
    {
     "data": {
      "image/png": "[encoded data removed]",
      "text/plain": [
       "<matplotlib.figure.Figure at 0x10c2c38d0>"
      ]
     },
     "metadata": {},
     "output_type": "display_data"
    },
    {
     "data": {
      "image/png": "[encoded data removed]",
      "text/plain": [
       "<matplotlib.figure.Figure at 0x11254fe10>"
      ]
     },
     "metadata": {},
     "output_type": "display_data"
    },
    {
     "data": {
      "image/png": "[encoded data removed]",
      "text/plain": [
       "<matplotlib.figure.Figure at 0x11277b630>"
      ]
     },
     "metadata": {},
     "output_type": "display_data"
    },
    {
     "data": {
      "image/png": "[encoded data removed]",
      "text/plain": [
       "<matplotlib.figure.Figure at 0x11299aa20>"
      ]
     },
     "metadata": {},
     "output_type": "display_data"
    },
    {
     "data": {
      "image/png": "[encoded data removed]",
      "text/plain": [
       "<matplotlib.figure.Figure at 0x112bc5128>"
      ]
     },
     "metadata": {},
     "output_type": "display_data"
    },
    {
     "data": {
      "image/png": "[encoded data removed]",
      "text/plain": [
       "<matplotlib.figure.Figure at 0x112dd3978>"
      ]
     },
     "metadata": {},
     "output_type": "display_data"
    }
   ],
   "source": [
    "for sample_index, sample in enumerate(samples):\n",
    "    plot.figure()\n",
    "    plot.hist(sample, bins=100)\n",
    "    plot.title(\n",
    "        \"sample {}: {}\".format(sample_index, \"OK\" if all([\n",
    "            not answer for answer_sample_index, answer in zip(p_values[:,0], answers)\n",
    "            if sample_index == answer_sample_index\n",
    "        ]) else \"NO\")\n",
    "    )"
   ]
  },
  {
   "cell_type": "markdown",
   "metadata": {
    "deletable": true,
    "editable": true
   },
   "source": [
    "5 из 7 выборок можно считать нормальными."
   ]
  }
 ],
 "metadata": {
  "kernelspec": {
   "display_name": "Python 3",
   "language": "python",
   "name": "python3"
  },
  "language_info": {
   "codemirror_mode": {
    "name": "ipython",
    "version": 3
   },
   "file_extension": ".py",
   "mimetype": "text/x-python",
   "name": "python",
   "nbconvert_exporter": "python",
   "pygments_lexer": "ipython3",
   "version": "3.6.0"
  }
 },
 "nbformat": 4,
 "nbformat_minor": 2
}
