{
 "cells": [
  {
   "cell_type": "code",
   "execution_count": 1,
   "metadata": {
    "collapsed": true,
    "deletable": true,
    "editable": true
   },
   "outputs": [],
   "source": [
    "import numpy\n",
    "import random\n",
    "from scipy import stats\n",
    "from matplotlib import pyplot as plot\n",
    "%matplotlib inline"
   ]
  },
  {
   "cell_type": "code",
   "execution_count": 2,
   "metadata": {
    "collapsed": true,
    "deletable": true,
    "editable": true
   },
   "outputs": [],
   "source": [
    "with open(\"6.csv\") as file:\n",
    "    data = numpy.array([int(line) for line in file])"
   ]
  },
  {
   "cell_type": "code",
   "execution_count": 3,
   "metadata": {
    "collapsed": false,
    "deletable": true,
    "editable": true
   },
   "outputs": [
    {
     "data": {
      "text/plain": [
       "[<matplotlib.lines.Line2D at 0x10b8768d0>]"
      ]
     },
     "execution_count": 3,
     "metadata": {},
     "output_type": "execute_result"
    },
    {
     "data": {
      "image/png": "[encoded data removed]",
      "text/plain": [
       "<matplotlib.figure.Figure at 0x10b7ebba8>"
      ]
     },
     "metadata": {},
     "output_type": "display_data"
    }
   ],
   "source": [
    "plot.plot(range(len(data)), data)"
   ]
  },
  {
   "cell_type": "markdown",
   "metadata": {
    "deletable": true,
    "editable": true
   },
   "source": [
    "В данных прослеживается тренд. Скорее всего гипотезы о том, что данные - выборка скорее всего должны быть отвергнуты."
   ]
  },
  {
   "cell_type": "code",
   "execution_count": 4,
   "metadata": {
    "collapsed": false,
    "deletable": true,
    "editable": true
   },
   "outputs": [],
   "source": [
    "# Делаем кучу стандартных нормальных выборок чтобы посчитать по нм статистики\n",
    "\n",
    "bootstrap_size = 1000\n",
    "sample_size = len(data) # Длину выборок возмем такую же, как длина исходной\n",
    "bootstrap = [\n",
    "    stats.norm.rvs(size=sample_size) for j in range(bootstrap_size)\n",
    "]"
   ]
  },
  {
   "cell_type": "code",
   "execution_count": 5,
   "metadata": {
    "collapsed": true,
    "deletable": true,
    "editable": true
   },
   "outputs": [],
   "source": [
    "def vald_volfit_statistic(sample):\n",
    "    mediana = numpy.percentile(sample, 50)\n",
    "    n_0 = 0\n",
    "    n_1 = 0\n",
    "    N = 0\n",
    "    state = None\n",
    "    for value in sample:\n",
    "        if value >= mediana:\n",
    "            n_1 += 1\n",
    "        else:\n",
    "            n_0 += 1\n",
    "        if state != (value >= mediana):\n",
    "            N += 1\n",
    "            state = (value >= mediana)\n",
    "    \n",
    "    return (\n",
    "        (N - 1 - (2 * n_0 * n_1) / (n_0 + n_1)) / numpy.sqrt(\n",
    "            (2 * n_0 * n_1 * (2 * n_0 * n_1 - n_0 - n_1)) / ((n_0 + n_1) ** 2 * (n_0 + n_1 - 1))\n",
    "        )\n",
    "    )\n",
    "\n",
    "def inversion_statistic(sample):\n",
    "    n = len(sample)\n",
    "    I = 0\n",
    "    for i in range(n):\n",
    "        for j in range(i + 1, n):\n",
    "            if sample[i] > sample[j]:\n",
    "                I += 1\n",
    "    E = n * (n - 1) / 4\n",
    "    D = (2 * n ** 3 + 3 * n ** 2 - 5 * n) / 72\n",
    "    return (I - E) / numpy.sqrt(D)"
   ]
  },
  {
   "cell_type": "code",
   "execution_count": 6,
   "metadata": {
    "collapsed": true,
    "deletable": true,
    "editable": true
   },
   "outputs": [],
   "source": [
    "alpha = 0.05"
   ]
  },
  {
   "cell_type": "code",
   "execution_count": 7,
   "metadata": {
    "collapsed": false,
    "deletable": true,
    "editable": true
   },
   "outputs": [],
   "source": [
    "# Считаем статистики и квантили. Распределние симметричное, поэтому используем двусторонний критерий.\n",
    "\n",
    "vald_volfit_values = [vald_volfit_statistic(sample) for sample in bootstrap]\n",
    "vald_volfit_values.sort()\n",
    "vald_volfit_statistic_down_threshold = vald_volfit_values[int(len(vald_volfit_values) * alpha / 2)]\n",
    "vald_volfit_statistic_up_threshold = vald_volfit_values[-int(len(vald_volfit_values) * alpha / 2)]"
   ]
  },
  {
   "cell_type": "code",
   "execution_count": 8,
   "metadata": {
    "collapsed": false,
    "deletable": true,
    "editable": true
   },
   "outputs": [],
   "source": [
    "# Считаем статистики и квантили. Распределние симметричное, поэтому используем двусторонний критерий.\n",
    "\n",
    "inversion_values = [inversion_statistic(sample) for sample in bootstrap]\n",
    "inversion_values.sort()\n",
    "inversion_statistic_down_threshold = inversion_values[int(len(inversion_values) * alpha / 2)]\n",
    "inversion_statistic_up_threshold = inversion_values[-int(len(inversion_values) * alpha / 2)]"
   ]
  },
  {
   "cell_type": "code",
   "execution_count": 9,
   "metadata": {
    "collapsed": false,
    "deletable": true,
    "editable": true
   },
   "outputs": [
    {
     "name": "stdout",
     "output_type": "stream",
     "text": [
      "Vald Volfit down threshold: -2.000068304844541, Vald Volfit up threshold: 1.8182439134950374\n",
      "inversion down threshold: -1.8743357504017393, inversion up threshold: 2.148736733931628\n",
      "Vald Volfit statistic: -9.818517132873202, inversion statistic: 9.615098979333599\n"
     ]
    }
   ],
   "source": [
    "print(\"Vald Volfit down threshold: {}, Vald Volfit up threshold: {}\".format(\n",
    "    vald_volfit_statistic_down_threshold, vald_volfit_statistic_up_threshold\n",
    "))\n",
    "print(\"inversion down threshold: {}, inversion up threshold: {}\".format(\n",
    "    inversion_statistic_down_threshold, inversion_statistic_up_threshold\n",
    "))\n",
    "print(\"Vald Volfit statistic: {}, inversion statistic: {}\".format(\n",
    "    vald_volfit_statistic(data), inversion_statistic(data)\n",
    "))"
   ]
  },
  {
   "cell_type": "markdown",
   "metadata": {
    "collapsed": true,
    "deletable": true,
    "editable": true
   },
   "source": [
    "Оба критерий говорят, что гипотезу можно отвергнуть, чего мы и ожидали."
   ]
  }
 ],
 "metadata": {
  "kernelspec": {
   "display_name": "Python 3",
   "language": "python",
   "name": "python3"
  },
  "language_info": {
   "codemirror_mode": {
    "name": "ipython",
    "version": 3
   },
   "file_extension": ".py",
   "mimetype": "text/x-python",
   "name": "python",
   "nbconvert_exporter": "python",
   "pygments_lexer": "ipython3",
   "version": "3.6.0"
  }
 },
 "nbformat": 4,
 "nbformat_minor": 2
}
