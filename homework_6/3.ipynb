{
 "cells": [
  {
   "cell_type": "code",
   "execution_count": 2,
   "metadata": {
    "collapsed": false
   },
   "outputs": [
    {
     "ename": "ImportError",
     "evalue": "No module named 'statsmodels'",
     "output_type": "error",
     "traceback": [
      "\u001b[0;31m---------------------------------------------------------------------------\u001b[0m",
      "\u001b[0;31mImportError\u001b[0m                               Traceback (most recent call last)",
      "\u001b[0;32m<ipython-input-2-36cc0a11f568>\u001b[0m in \u001b[0;36m<module>\u001b[0;34m()\u001b[0m\n\u001b[1;32m      2\u001b[0m \u001b[0;32mfrom\u001b[0m \u001b[0mscipy\u001b[0m \u001b[0;32mimport\u001b[0m \u001b[0mstats\u001b[0m\u001b[0;34m\u001b[0m\u001b[0m\n\u001b[1;32m      3\u001b[0m \u001b[0;32mfrom\u001b[0m \u001b[0mmatplotlib\u001b[0m \u001b[0;32mimport\u001b[0m \u001b[0mpyplot\u001b[0m \u001b[0;32mas\u001b[0m \u001b[0mplot\u001b[0m\u001b[0;34m\u001b[0m\u001b[0m\n\u001b[0;32m----> 4\u001b[0;31m \u001b[0;32mfrom\u001b[0m \u001b[0mstatsmodels\u001b[0m\u001b[0;34m.\u001b[0m\u001b[0msandbox\u001b[0m\u001b[0;34m.\u001b[0m\u001b[0mstats\u001b[0m\u001b[0;34m.\u001b[0m\u001b[0mmulticomp\u001b[0m \u001b[0;32mimport\u001b[0m \u001b[0mmultipletests\u001b[0m\u001b[0;34m\u001b[0m\u001b[0m\n\u001b[0m\u001b[1;32m      5\u001b[0m \u001b[0mget_ipython\u001b[0m\u001b[0;34m(\u001b[0m\u001b[0;34m)\u001b[0m\u001b[0;34m.\u001b[0m\u001b[0mmagic\u001b[0m\u001b[0;34m(\u001b[0m\u001b[0;34m'matplotlib inline'\u001b[0m\u001b[0;34m)\u001b[0m\u001b[0;34m\u001b[0m\u001b[0m\n",
      "\u001b[0;31mImportError\u001b[0m: No module named 'statsmodels'"
     ]
    }
   ],
   "source": [
    "import numpy\n",
    "from scipy import stats\n",
    "from matplotlib import pyplot as plot\n",
    "from statsmodels.sandbox.stats.multicomp import multipletests\n",
    "%matplotlib inline"
   ]
  },
  {
   "cell_type": "code",
   "execution_count": null,
   "metadata": {
    "collapsed": true
   },
   "outputs": [],
   "source": [
    "with open(\"3.txt\") as file:\n",
    "    X = numpy.array([float(line.split(' ')[0]) for line in file])\n",
    "\n",
    "with open(\"3.txt\") as file:\n",
    "    Y = numpy.array([float(line.split(' ')[1]) for line in file])"
   ]
  },
  {
   "cell_type": "code",
   "execution_count": null,
   "metadata": {
    "collapsed": false
   },
   "outputs": [],
   "source": [
    "print(len(X), len(Y))"
   ]
  },
  {
   "cell_type": "code",
   "execution_count": null,
   "metadata": {
    "collapsed": false,
    "scrolled": true
   },
   "outputs": [],
   "source": [
    "plot.scatter(X, Y)"
   ]
  },
  {
   "cell_type": "markdown",
   "metadata": {},
   "source": [
    "По картинке видно, что выборки зависимы, можно это проверить даже с попомщью кожффициентов корреляции. Но воспользуемся критерием хи-квадрат."
   ]
  },
  {
   "cell_type": "code",
   "execution_count": null,
   "metadata": {
    "collapsed": false
   },
   "outputs": [],
   "source": [
    "class Chi2Exception:\n",
    "    pass\n",
    "\n",
    "def independence_p_value(X, Y, n, m):\n",
    "    epsilon = 0.01\n",
    "    B = numpy.linspace(min(X) - epsilon, max(X) + epsilon, n + 1)\n",
    "    C = numpy.linspace(min(Y) - epsilon, max(Y) + epsilon, m + 1)\n",
    "    nu = numpy.array([[\n",
    "            len([1 for x, y in zip(X, Y) if ((B[i] <= x < B[i + 1]) and (C[j] <= y < C[j + 1]))])\n",
    "            for j in range(m)\n",
    "        ]\n",
    "        for i in range(n)\n",
    "    ])\n",
    "\n",
    "    N = numpy.sum(nu)\n",
    "    ns = numpy.array([sum(nu[i,:]) for i in range(n)])\n",
    "    ms = numpy.array([sum(nu[:,j]) for j in range(m)])\n",
    "    for x in ns:\n",
    "        for y in ms:\n",
    "            if x * y / N < 5:\n",
    "                raise Chi2Exception\n",
    "    statistic = N * numpy.sum([[\n",
    "            (nu[i][j] - (ns[i] * ms[j]) / N) ** 2 / (ns[i] * ms[j])\n",
    "            for j in range(m)\n",
    "        ]\n",
    "        for i in range(n)\n",
    "    ])\n",
    "    return stats.chi2.sf(statistic, df=(n-1)*(m-1))"
   ]
  },
  {
   "cell_type": "code",
   "execution_count": null,
   "metadata": {
    "collapsed": false
   },
   "outputs": [],
   "source": [
    "alpha=0.1\n",
    "\n",
    "try:\n",
    "    print(independence_p_value(X, Y, 3, 3))\n",
    "except:\n",
    "    print(\"=(\")"
   ]
  },
  {
   "cell_type": "markdown",
   "metadata": {},
   "source": [
    "p-value хи-квадрат очень маленькое. Выбрав $alpha=0.1$ (как в условии), гипотезу о независимости можно отвергнуть."
   ]
  },
  {
   "cell_type": "code",
   "execution_count": null,
   "metadata": {
    "collapsed": true
   },
   "outputs": [],
   "source": [
    "methods = [\n",
    "    (lambda sample: stats.shapiro(sample)[1]),\n",
    "    (lambda sample: \n",
    "        stats.kstest(\n",
    "            sample, lambda x: stats.norm.cdf(\n",
    "                x, loc=stats.norm.fit(sample)[0],\n",
    "                scale=stats.norm.fit(sample)[1]\n",
    "            )\n",
    "        )[1]\n",
    "    ),\n",
    "    (lambda sample: stats.jarque_bera(sample)[1]),\n",
    "    (lambda sample: stats.skewtest(sample)[1])\n",
    "]"
   ]
  },
  {
   "cell_type": "code",
   "execution_count": null,
   "metadata": {
    "collapsed": false
   },
   "outputs": [],
   "source": [
    "X_p_values = [method(X) for method in methods]\n",
    "Y_p_values = [method(Y) for method in methods]\n",
    "X_answers = multipletests(X_p_values, method=\"holm\", alpha=alpha)[0]\n",
    "Y_answers = multipletests(Y_p_values, method=\"holm\", alpha=alpha)[0]"
   ]
  },
  {
   "cell_type": "code",
   "execution_count": null,
   "metadata": {
    "collapsed": true
   },
   "outputs": [],
   "source": []
  }
 ],
 "metadata": {
  "kernelspec": {
   "display_name": "Python 3",
   "language": "python",
   "name": "python3"
  },
  "language_info": {
   "codemirror_mode": {
    "name": "ipython",
    "version": 3
   },
   "file_extension": ".py",
   "mimetype": "text/x-python",
   "name": "python",
   "nbconvert_exporter": "python",
   "pygments_lexer": "ipython3",
   "version": "3.5.2"
  }
 },
 "nbformat": 4,
 "nbformat_minor": 2
}
