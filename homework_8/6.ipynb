{
 "cells": [
  {
   "cell_type": "code",
   "execution_count": 1,
   "metadata": {
    "collapsed": false
   },
   "outputs": [],
   "source": [
    "data <- data.matrix(read.table('4.txt', header = FALSE))\n",
    "X <- data[,1:ncol(data)-1]\n",
    "Y <- data[,ncol(data)]"
   ]
  },
  {
   "cell_type": "code",
   "execution_count": 43,
   "metadata": {
    "collapsed": false
   },
   "outputs": [
    {
     "name": "stdout",
     "output_type": "stream",
     "text": [
      " [1]  5  6  1  2  3  4  7  8  9 10 11 12 13\n"
     ]
    }
   ],
   "source": [
    "indexes_in_model = vector(length = 0)\n",
    "features_number = 13\n",
    "n = nrow(data)\n",
    "\n",
    "for (i in 1:features_number) {\n",
    "    best_BIC <- 10**100\n",
    "    best_index <- -1\n",
    "    for (i in 1:ncol(X)) {\n",
    "        if (sum(indexes_in_model == i) == 0) {\n",
    "            new_indexes <- c(indexes_in_model, i)\n",
    "            k <- length(new_indexes)            \n",
    "            new_X <- X[,new_indexes]\n",
    "            Y_hat <- new_X %*% solve(t(new_X) %*% new_X) %*% t(new_X) %*% Y\n",
    "            RSS <- sum((Y_hat - Y) ^ 2)\n",
    "            BIC <- 2 * k * log(n) + n * floor(1 + log(RSS / n))\n",
    "            if (BIC < best_BIC) {\n",
    "                best_BIC <- BIC\n",
    "                best_index <- i\n",
    "            }\n",
    "        }\n",
    "    }\n",
    "    indexes_in_model <- c(indexes_in_model, best_index)\n",
    "}\n",
    "print(indexes_in_model)"
   ]
  },
  {
   "cell_type": "code",
   "execution_count": 44,
   "metadata": {
    "collapsed": false
   },
   "outputs": [
    {
     "name": "stdout",
     "output_type": "stream",
     "text": [
      " [1]  5  6  1  2  3  4  7  8  9 10 11 12 13\n"
     ]
    }
   ],
   "source": [
    "indexes_in_model = vector(length = 0)\n",
    "features_number = 13\n",
    "n = nrow(data)\n",
    "\n",
    "for (i in 1:features_number) {\n",
    "    best_AIC <- 10**100\n",
    "    best_index <- -1\n",
    "    for (i in 1:ncol(X)) {\n",
    "        if (sum(indexes_in_model == i) == 0) {\n",
    "            new_indexes <- c(indexes_in_model, i)\n",
    "            k <- length(new_indexes)\n",
    "            new_X <- X[,new_indexes]\n",
    "            Y_hat <- new_X %*% solve(t(new_X) %*% new_X) %*% t(new_X) %*% Y\n",
    "            RSS <- sum((Y_hat - Y) ^ 2)\n",
    "            AIC <- 2 * k + n * floor(1 + log(RSS / n))\n",
    "            if (AIC < best_AIC) {\n",
    "                best_AIC <- AIC\n",
    "                best_index <- i\n",
    "            }\n",
    "        }\n",
    "    }\n",
    "    indexes_in_model <- c(indexes_in_model, best_index)\n",
    "}\n",
    "print(indexes_in_model)"
   ]
  },
  {
   "cell_type": "markdown",
   "metadata": {},
   "source": [
    "Модели, построенные с помощью AIC и BIC получились одинаковыми. Это произошло из-за того, что AIC и BIC отличаются лишь тем, что BIC сильнее штрафует за сложность модели. В нашем случае количетво признаков в моделях, которые мы сравниваем всегда одинаковое. Поэтому и наборы признаков получились одинаковыми"
   ]
  }
 ],
 "metadata": {
  "kernelspec": {
   "display_name": "R",
   "language": "R",
   "name": "ir"
  },
  "language_info": {
   "codemirror_mode": "r",
   "file_extension": ".r",
   "mimetype": "text/x-r-source",
   "name": "R",
   "pygments_lexer": "r",
   "version": "3.3.3"
  }
 },
 "nbformat": 4,
 "nbformat_minor": 2
}
